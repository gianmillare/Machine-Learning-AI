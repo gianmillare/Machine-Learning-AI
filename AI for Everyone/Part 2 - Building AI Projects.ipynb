{
 "cells": [
  {
   "cell_type": "markdown",
   "id": "a4fa6788",
   "metadata": {},
   "source": [
    "# Building AI Projects"
   ]
  },
  {
   "cell_type": "markdown",
   "id": "7c177996",
   "metadata": {},
   "source": [
    "<hr>\n",
    "\n",
    "### Workflow of an ML Project\n",
    "\n",
    "- Step 1: Collect Data\n",
    "- Step 2: Train the Machine Learning Algorithm (Model)\n",
    "    - This should be an A/B Mapping: Input and output algorithm\n",
    "    - This includes interating the model several times to get a \"good enough\" accuracy\n",
    "- Step 3: Deploy the model\n",
    "    - this is then followed by getting feedback, then updating and maintaining the model"
   ]
  },
  {
   "cell_type": "markdown",
   "id": "986bc82e",
   "metadata": {},
   "source": [
    "<img src=\"images/steps1.png\">"
   ]
  },
  {
   "cell_type": "markdown",
   "id": "3aebdaa8",
   "metadata": {},
   "source": [
    "<hr>\n",
    "\n",
    "### Workflow of a Data Science Project\n",
    "\n",
    "<strong>The key difference</strong> is that Data Science projects usually output an actionable insight.  \n",
    "\n",
    "- Step 1: Collect Data\n",
    "- Step 2: Analyze the Data\n",
    "    - The form of iteration here is coming up with different ideas or hypothesis to solve a given problem\n",
    "- Step 3: Suggest a solution / actionable items\n",
    "    - deploy changes\n",
    "    - re-analyze new data to maintain a action or go back to step 2"
   ]
  },
  {
   "cell_type": "markdown",
   "id": "1d2fd366",
   "metadata": {},
   "source": [
    "<img src=\"images/steps2.png\">"
   ]
  },
  {
   "cell_type": "code",
   "execution_count": null,
   "id": "866289a1",
   "metadata": {},
   "outputs": [],
   "source": []
  }
 ],
 "metadata": {
  "kernelspec": {
   "display_name": "Python 3",
   "language": "python",
   "name": "python3"
  },
  "language_info": {
   "codemirror_mode": {
    "name": "ipython",
    "version": 3
   },
   "file_extension": ".py",
   "mimetype": "text/x-python",
   "name": "python",
   "nbconvert_exporter": "python",
   "pygments_lexer": "ipython3",
   "version": "3.8.9"
  }
 },
 "nbformat": 4,
 "nbformat_minor": 5
}
