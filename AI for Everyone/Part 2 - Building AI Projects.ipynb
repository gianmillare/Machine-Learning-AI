{
 "cells": [
  {
   "cell_type": "markdown",
   "id": "3fb9b1ba",
   "metadata": {},
   "source": [
    "# Building AI Projects"
   ]
  },
  {
   "cell_type": "markdown",
   "id": "81c25574",
   "metadata": {},
   "source": [
    "### Workflow of an ML Project\n",
    "\n",
    "- Step 1: Collect Data\n",
    "- Step 2: Train the Machine Learning Algorithm (Model)\n",
    "    - This should be an A/B Mapping: Input and output algorithm\n",
    "    - This includes interating the model several times to get a \"good enough\" accuracy\n",
    "- Step 3: Deploy the model\n",
    "    - this is then followed by getting feedback, then updating and maintaining the model"
   ]
  },
  {
   "cell_type": "code",
   "execution_count": null,
   "id": "aab90877",
   "metadata": {},
   "outputs": [],
   "source": []
  }
 ],
 "metadata": {
  "kernelspec": {
   "display_name": "Python 3",
   "language": "python",
   "name": "python3"
  },
  "language_info": {
   "codemirror_mode": {
    "name": "ipython",
    "version": 3
   },
   "file_extension": ".py",
   "mimetype": "text/x-python",
   "name": "python",
   "nbconvert_exporter": "python",
   "pygments_lexer": "ipython3",
   "version": "3.8.9"
  }
 },
 "nbformat": 4,
 "nbformat_minor": 5
}
