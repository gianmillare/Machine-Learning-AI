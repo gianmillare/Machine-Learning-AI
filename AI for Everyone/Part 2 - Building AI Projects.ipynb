{
 "cells": [
  {
   "cell_type": "markdown",
   "id": "3bcc5627",
   "metadata": {},
   "source": [
    "# Building AI Projects"
   ]
  },
  {
   "cell_type": "markdown",
   "id": "53f7ca8f",
   "metadata": {},
   "source": [
    "<hr>\n",
    "\n",
    "### Workflow of an ML Project\n",
    "\n",
    "- Step 1: Collect Data\n",
    "- Step 2: Train the Machine Learning Algorithm (Model)\n",
    "    - This should be an A/B Mapping: Input and output algorithm\n",
    "    - This includes interating the model several times to get a \"good enough\" accuracy\n",
    "- Step 3: Deploy the model\n",
    "    - this is then followed by getting feedback, then updating and maintaining the model"
   ]
  },
  {
   "cell_type": "markdown",
   "id": "8a1fce47",
   "metadata": {},
   "source": [
    "<img src=\"images/steps1.png\">"
   ]
  },
  {
   "cell_type": "markdown",
   "id": "89e9643f",
   "metadata": {},
   "source": [
    "<hr>\n",
    "\n",
    "### Workflow of a Data Science Project\n",
    "\n",
    "<strong>The key difference</strong> is that Data Science projects usually output an actionable insight.  \n",
    "\n",
    "- Step 1: Collect Data\n",
    "- Step 2: Analyze the Data\n",
    "    - The form of iteration here is coming up with different ideas or hypothesis to solve a given problem\n",
    "- Step 3: Suggest a solution / actionable items\n",
    "    - deploy changes\n",
    "    - re-analyze new data to maintain a action or go back to step 2"
   ]
  },
  {
   "cell_type": "markdown",
   "id": "dab25cda",
   "metadata": {},
   "source": [
    "<img src=\"images/steps2.png\">"
   ]
  },
  {
   "cell_type": "markdown",
   "id": "8021aeb7",
   "metadata": {},
   "source": [
    "<hr>\n",
    "\n",
    "### More Examples:\n",
    "\n",
    "- Recruiting\n",
    "    - Data Science: not many people reach on site interview --> Change interview process\n",
    "    - Machine Learning: AI driven resume parser based on key words\n",
    "- Manufacturing\n",
    "    - Data Science: Noticed that most defects come from increasing humidity during the afternoon\n",
    "    - Machine Learning: AI driven inspection that can identify a broken product\n",
    "- Marketing\n",
    "    - Data Science: A/B testing on websites to see what colors drive more user interactivity (red vs green)\n",
    "    - Machine Learning: customized advertising based on previous purchases\n",
    "- Agriculture\n",
    "    - Data Science: Crop analytics. Taking data on weather, customer behavior, etc.\n",
    "    - Machine Learning: image identification to spray weed killer to remove weeds from crops. "
   ]
  },
  {
   "cell_type": "markdown",
   "id": "db194493",
   "metadata": {},
   "source": [
    "<hr>\n",
    "\n",
    "### Choosing an AI Project"
   ]
  },
  {
   "cell_type": "markdown",
   "id": "94293c7c",
   "metadata": {},
   "source": [
    "- Splitting your potential project into two categories: Things that AI can do vs. Things that are important to your company. Usually the intersection of these two are more likely to be automated and useful.\n",
    "\n",
    "<img src=\"images/steps3.png\">\n",
    "\n",
    "<strong>Technical Diligence</strong>: checking that what you want to do is actually doable.\n",
    "- Can AI system meet the performance standards?\n",
    "- How much data is needed is actually obtainable\n",
    "- Is the timeline doable in the time limit\n",
    "\n",
    "<strong>Business Diligence</strong>: checking if the actions will lead to success.\n",
    "- Does this lower cost?\n",
    "- Does this increase revenue?\n",
    "- Can this create a new product or obtain more business?"
   ]
  },
  {
   "cell_type": "code",
   "execution_count": null,
   "id": "0f32a18a",
   "metadata": {},
   "outputs": [],
   "source": []
  }
 ],
 "metadata": {
  "kernelspec": {
   "display_name": "Python 3",
   "language": "python",
   "name": "python3"
  },
  "language_info": {
   "codemirror_mode": {
    "name": "ipython",
    "version": 3
   },
   "file_extension": ".py",
   "mimetype": "text/x-python",
   "name": "python",
   "nbconvert_exporter": "python",
   "pygments_lexer": "ipython3",
   "version": "3.8.9"
  }
 },
 "nbformat": 4,
 "nbformat_minor": 5
}
