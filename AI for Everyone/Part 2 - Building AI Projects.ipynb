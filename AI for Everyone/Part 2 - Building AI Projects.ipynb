{
 "cells": [
  {
   "cell_type": "markdown",
   "id": "0824a3d5",
   "metadata": {},
   "source": [
    "# Building AI Projects"
   ]
  },
  {
   "cell_type": "markdown",
   "id": "05738db6",
   "metadata": {},
   "source": [
    "<hr>\n",
    "\n",
    "### Workflow of an ML Project\n",
    "\n",
    "- Step 1: Collect Data\n",
    "- Step 2: Train the Machine Learning Algorithm (Model)\n",
    "    - This should be an A/B Mapping: Input and output algorithm\n",
    "    - This includes interating the model several times to get a \"good enough\" accuracy\n",
    "- Step 3: Deploy the model\n",
    "    - this is then followed by getting feedback, then updating and maintaining the model"
   ]
  },
  {
   "cell_type": "markdown",
   "id": "46dc55d1",
   "metadata": {},
   "source": [
    "<img src=\"images/steps1.png\">"
   ]
  },
  {
   "cell_type": "markdown",
   "id": "3c6155d0",
   "metadata": {},
   "source": [
    "<hr>\n",
    "\n",
    "### Workflow of a Data Science Project\n",
    "\n",
    "<strong>The key difference</strong> is that Data Science projects usually output an actionable insight.  \n",
    "\n",
    "- Step 1: Collect Data\n",
    "- Step 2: Analyze the Data\n",
    "    - The form of iteration here is coming up with different ideas or hypothesis to solve a given problem\n",
    "- Step 3: Suggest a solution / actionable items\n",
    "    - deploy changes\n",
    "    - re-analyze new data to maintain a action or go back to step 2"
   ]
  },
  {
   "cell_type": "markdown",
   "id": "6a73c2ad",
   "metadata": {},
   "source": [
    "<img src=\"images/steps2.png\">"
   ]
  },
  {
   "cell_type": "markdown",
   "id": "0bf6ac3d",
   "metadata": {},
   "source": [
    "<hr>\n",
    "\n",
    "### More Examples:\n",
    "\n",
    "- Recruiting\n",
    "    - Data Science: not many people reach on site interview --> Change interview process\n",
    "    - Machine Learning: AI driven resume parser based on key words\n",
    "- Manufacturing\n",
    "    - Data Science: Noticed that most defects come from increasing humidity during the afternoon\n",
    "    - Machine Learning: AI driven inspection that can identify a broken product\n",
    "- Marketing\n",
    "    - Data Science: A/B testing on websites to see what colors drive more user interactivity (red vs green)\n",
    "    - Machine Learning: customized advertising based on previous purchases\n",
    "- Agriculture\n",
    "    - Data Science: Crop analytics. Taking data on weather, customer behavior, etc.\n",
    "    - Machine Learning: image identification to spray weed killer to remove weeds from crops. "
   ]
  },
  {
   "cell_type": "code",
   "execution_count": null,
   "id": "08dab15e",
   "metadata": {},
   "outputs": [],
   "source": []
  }
 ],
 "metadata": {
  "kernelspec": {
   "display_name": "Python 3",
   "language": "python",
   "name": "python3"
  },
  "language_info": {
   "codemirror_mode": {
    "name": "ipython",
    "version": 3
   },
   "file_extension": ".py",
   "mimetype": "text/x-python",
   "name": "python",
   "nbconvert_exporter": "python",
   "pygments_lexer": "ipython3",
   "version": "3.8.9"
  }
 },
 "nbformat": 4,
 "nbformat_minor": 5
}
