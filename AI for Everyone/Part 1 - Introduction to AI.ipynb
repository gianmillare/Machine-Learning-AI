{
 "cells": [
  {
   "cell_type": "markdown",
   "id": "45226d80",
   "metadata": {},
   "source": [
    "# What is Artificial Intelligence?"
   ]
  },
  {
   "cell_type": "markdown",
   "id": "d8b2d4db",
   "metadata": {},
   "source": [
    "### Demystifying AI  \n",
    "\n",
    "Artificial Narrow Intelligence (ANI) - AI that is expected to do one specific task\n",
    "* Self-driving car\n",
    "* Web searches\n",
    "* Smart speakers\n",
    "\n",
    "Artificial General Intelligence (AGI) - AI that is expected to do anything a human can do.\n",
    "* Human abilities\n",
    "* Human thought\n",
    "* Human... emotions?"
   ]
  },
  {
   "cell_type": "markdown",
   "id": "a0089bea",
   "metadata": {},
   "source": [
    "### Machine Learning\n",
    "\n",
    "<strong>Supervised Learning</strong>\n",
    " - also known as A/B Testing --> Input -> Output Learning\n",
    " - Examples:\n",
    "     - Input A is an email and Output B is either Spam or Not Spam --> spam filtering\n",
    "     - Input A is ausio and output b is a text transcript --> speech recognition\n",
    "     - input A is english and output is chinese --> machine translation\n",
    "     - input is an advertisement with user information and output is with or without click --> online advertising\n",
    "     - input image or radar with an output of car positioning --> self-driving car\n",
    "     - input manufacturing materials and output is damages or defect --> visual inspections"
   ]
  },
  {
   "cell_type": "markdown",
   "id": "ce8a29bc",
   "metadata": {},
   "source": [
    "### Using Data with Machine Learning"
   ]
  },
  {
   "cell_type": "markdown",
   "id": "fda0c889",
   "metadata": {},
   "source": [
    "<img src=\"images/data1.png\">\n",
    "\n",
    "A real estate company may want to use supervised learning to input size and number of bedrooms to declare a price that a house should be sold for.  \n",
    "\n",
    "On the other hand, a buyer may want to input a price they are willing to pay to output what size a house should be with their budget."
   ]
  },
  {
   "cell_type": "markdown",
   "id": "68ab335d",
   "metadata": {},
   "source": [
    "<img src=\"images/data2.png\">\n",
    "A app developer may want to create a image recognition app. The data would include an input of images and an output of whether or not that image contained a specific object"
   ]
  },
  {
   "cell_type": "markdown",
   "id": "dfb77113",
   "metadata": {},
   "source": [
    "<img src=\"images/data3.png\">\n",
    "An application owner can use backend data to predict whether a product is selling to a specific sample of users. Manufacturing companies can use datasets with an input of machine traits (temperature, speed, etc.) to output whether that manufacturing machine is at risk of failing."
   ]
  },
  {
   "cell_type": "markdown",
   "id": "5831a50f",
   "metadata": {},
   "source": [
    "### Data is almost never perfect (especially big data)\n",
    "- can have missing values\n",
    "- can be labeled incorrectly\n",
    "- more data does not always mean rich data\n",
    "- there are numerous amounts of types of data"
   ]
  },
  {
   "cell_type": "code",
   "execution_count": null,
   "id": "394a52df",
   "metadata": {},
   "outputs": [],
   "source": []
  }
 ],
 "metadata": {
  "kernelspec": {
   "display_name": "Python 3",
   "language": "python",
   "name": "python3"
  },
  "language_info": {
   "codemirror_mode": {
    "name": "ipython",
    "version": 3
   },
   "file_extension": ".py",
   "mimetype": "text/x-python",
   "name": "python",
   "nbconvert_exporter": "python",
   "pygments_lexer": "ipython3",
   "version": "3.8.9"
  }
 },
 "nbformat": 4,
 "nbformat_minor": 5
}
