{
 "cells": [
  {
   "cell_type": "markdown",
   "id": "42ef1ebb",
   "metadata": {},
   "source": [
    "# What is Artificial Intelligence?"
   ]
  },
  {
   "cell_type": "markdown",
   "id": "0835e253",
   "metadata": {},
   "source": [
    "### Demystifying AI  \n",
    "\n",
    "Artificial Narrow Intelligence (ANI) - AI that is expected to do one specific task\n",
    "* Self-driving car\n",
    "* Web searches\n",
    "* Smart speakers\n",
    "\n",
    "Artificial General Intelligence (AGI) - AI that is expected to do anything a human can do.\n",
    "* Human abilities\n",
    "* Human thought\n",
    "* Human... emotions?"
   ]
  },
  {
   "cell_type": "markdown",
   "id": "72913f6a",
   "metadata": {},
   "source": [
    "<hr>\n",
    "\n",
    "### Machine Learning\n",
    "\n",
    "<strong>Supervised Learning</strong>\n",
    " - also known as A/B Testing --> Input -> Output Learning\n",
    " - Examples:\n",
    "     - Input A is an email and Output B is either Spam or Not Spam --> spam filtering\n",
    "     - Input A is ausio and output b is a text transcript --> speech recognition\n",
    "     - input A is english and output is chinese --> machine translation\n",
    "     - input is an advertisement with user information and output is with or without click --> online advertising\n",
    "     - input image or radar with an output of car positioning --> self-driving car\n",
    "     - input manufacturing materials and output is damages or defect --> visual inspections"
   ]
  },
  {
   "cell_type": "markdown",
   "id": "725b2c85",
   "metadata": {},
   "source": [
    "<hr>\n",
    "\n",
    "### Using Data with Machine Learning"
   ]
  },
  {
   "cell_type": "markdown",
   "id": "e30f1c47",
   "metadata": {},
   "source": [
    "<img src=\"images/data1.png\">\n",
    "\n",
    "A real estate company may want to use supervised learning to input size and number of bedrooms to declare a price that a house should be sold for.  \n",
    "\n",
    "On the other hand, a buyer may want to input a price they are willing to pay to output what size a house should be with their budget."
   ]
  },
  {
   "cell_type": "markdown",
   "id": "f2eb032d",
   "metadata": {},
   "source": [
    "<img src=\"images/data2.png\">\n",
    "A app developer may want to create a image recognition app. The data would include an input of images and an output of whether or not that image contained a specific object"
   ]
  },
  {
   "cell_type": "markdown",
   "id": "3ab4e924",
   "metadata": {},
   "source": [
    "<img src=\"images/data3.png\">\n",
    "An application owner can use backend data to predict whether a product is selling to a specific sample of users. Manufacturing companies can use datasets with an input of machine traits (temperature, speed, etc.) to output whether that manufacturing machine is at risk of failing."
   ]
  },
  {
   "cell_type": "markdown",
   "id": "34478703",
   "metadata": {},
   "source": [
    "### Data is almost never perfect (especially big data)\n",
    "- can have missing values\n",
    "- can be labeled incorrectly\n",
    "- more data does not always mean rich data\n",
    "- there are numerous amounts of types of data"
   ]
  },
  {
   "cell_type": "markdown",
   "id": "217ffc03",
   "metadata": {},
   "source": [
    "<hr>\n",
    "\n",
    "### The Terminology of Artificial Intelligence\n",
    "\n",
    "<img src=\"images/mlds1.png\">"
   ]
  },
  {
   "cell_type": "markdown",
   "id": "e3d60eb7",
   "metadata": {},
   "source": [
    "<strong>Artificial Intelligence</strong> is usually a combination of a running AI system inside an application that adjusts based on the data provided to that application. In other words, it is an ongoing analysis that changes everytime new data is added to an active system. This is where B is adjusted based on the value of A.\n",
    "\n",
    "<strong>Data Science</strong>, on the other hand, can be defined as extracting knowledge from a snapshot of data. Rather than defining B as dependent on A, data science is when analysts derive what B's intrinsic value is based on the value of A."
   ]
  },
  {
   "cell_type": "markdown",
   "id": "943171a2",
   "metadata": {},
   "source": [
    "<img src=\"images/mlds2.png\">"
   ]
  },
  {
   "cell_type": "markdown",
   "id": "523bbcf7",
   "metadata": {},
   "source": [
    "<hr>\n",
    "\n",
    "<strong>Deep Learning</strong>: Also known as Neural Network is a subset of artificial intelligence where inputs are fed into 'nodes' that process the input and output a value. It was insired by the neurons of a human brain, but has almost no relation to the human brain system.  \n",
    "\n",
    "<img src=\"images/mlds3.png\">"
   ]
  },
  {
   "cell_type": "markdown",
   "id": "495ce4c2",
   "metadata": {},
   "source": [
    "<strong>The Hierarchy of AI</strong> is still an ongoing topic today. But the acceptable hierarchy is that Deep Learning Neural Networks are a subset of Machine Learning, and Machine Learning is a subset of Artificial Intelligence. Data Science, however, is neither a subset of AI nor an unrelated practice. Instead, data science can be viewed as another practice that uses certain tools and processes that is also used in AI.\n",
    "\n",
    "<img src=\"images/mlds4.png\">"
   ]
  },
  {
   "cell_type": "markdown",
   "id": "8ea57532",
   "metadata": {},
   "source": [
    "<hr>\n",
    "\n",
    "### Limitations of Artificial Intelligence"
   ]
  },
  {
   "cell_type": "markdown",
   "id": "bf8a7bae",
   "metadata": {},
   "source": [
    "- anything that humans can usually do with 1 second of thought is constantly becoming automated, and can nor or soon be automated.\n",
    "- Things like writing a 50 page report is still something AI cannot do.\n",
    "- In other words, deciding an optimal price can be decided fairly easily, but writing a in-depth report on the real estate industry is not possible with today's artificial intelligence.\n",
    "- most applications that require a form of emotion"
   ]
  },
  {
   "cell_type": "markdown",
   "id": "853ccc3f",
   "metadata": {},
   "source": [
    "Example: creating a refund request and a response.  \n",
    "\n",
    "<img src=\"images/limit1.png\">\n",
    "\n",
    "<strong>AI can</strong> shoot an automated email confirmation of returning product.  \n",
    "<strong>AI cannot</strong> sympathize with the consumer, explaining that they are apologetic for the girl's birthday. "
   ]
  },
  {
   "cell_type": "markdown",
   "id": "8bf9a710",
   "metadata": {},
   "source": [
    "Rules of thumb: How to make a Machine Learning problem <strong>easier</strong>:\n",
    "- Center it around a \"simple\" concept\n",
    "- Derive a problem that has a lot of data readily available (or found on the internet)\n",
    "    - The data should follow a standard A/B concept"
   ]
  },
  {
   "cell_type": "markdown",
   "id": "a2df5e90",
   "metadata": {},
   "source": [
    "<hr>\n",
    "\n",
    "### More Examples of AI Limitations"
   ]
  },
  {
   "cell_type": "markdown",
   "id": "16574b10",
   "metadata": {},
   "source": [
    "<img src=\"images/limit2.png\">\n",
    "\n",
    "- Self-Driving Cars --> Can: \n",
    "    - input A: a picture of what is in front or around of your car\n",
    "    - output B: the position of the other cars\n",
    "- Self-Driving Cars --> Cannot:\n",
    "    - indicate what a human or driver is TRYING to do\n",
    "        - hitch hikers\n",
    "        - construction workers\n",
    "        - crosswalk/traffic gestures\n",
    "        - bicyclist genstures"
   ]
  },
  {
   "cell_type": "markdown",
   "id": "a08fda36",
   "metadata": {},
   "source": [
    "<img src=\"images/limit3.png\">\n",
    "\n",
    "- X-Ray Diagnosis --> Can:\n",
    "    - input x-ray images and diagnose if client has illness\n",
    "- X-Ray Diagnosis --> Cannot:\n",
    "    - Explain what the illness is without the help of text"
   ]
  },
  {
   "cell_type": "code",
   "execution_count": null,
   "id": "603bd1af",
   "metadata": {},
   "outputs": [],
   "source": []
  }
 ],
 "metadata": {
  "kernelspec": {
   "display_name": "Python 3",
   "language": "python",
   "name": "python3"
  },
  "language_info": {
   "codemirror_mode": {
    "name": "ipython",
    "version": 3
   },
   "file_extension": ".py",
   "mimetype": "text/x-python",
   "name": "python",
   "nbconvert_exporter": "python",
   "pygments_lexer": "ipython3",
   "version": "3.8.9"
  }
 },
 "nbformat": 4,
 "nbformat_minor": 5
}
