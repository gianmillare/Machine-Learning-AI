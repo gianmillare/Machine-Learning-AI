{
 "cells": [
  {
   "cell_type": "markdown",
   "id": "49500da6",
   "metadata": {},
   "source": [
    "# What is Artificial Intelligence?"
   ]
  },
  {
   "cell_type": "markdown",
   "id": "c63ccdb6",
   "metadata": {},
   "source": [
    "### Demystifying AI  \n",
    "\n",
    "Artificial Narrow Intelligence (ANI) - AI that is expected to do one specific task\n",
    "* Self-driving car\n",
    "* Web searches\n",
    "* Smart speakers\n",
    "\n",
    "Artificial General Intelligence (AGI) - AI that is expected to do anything a human can do.\n",
    "* Human abilities\n",
    "* Human thought\n",
    "* Human... emotions?"
   ]
  },
  {
   "cell_type": "markdown",
   "id": "c49c869f",
   "metadata": {},
   "source": [
    "<hr>\n",
    "\n",
    "### Machine Learning\n",
    "\n",
    "<strong>Supervised Learning</strong>\n",
    " - also known as A/B Testing --> Input -> Output Learning\n",
    " - Examples:\n",
    "     - Input A is an email and Output B is either Spam or Not Spam --> spam filtering\n",
    "     - Input A is ausio and output b is a text transcript --> speech recognition\n",
    "     - input A is english and output is chinese --> machine translation\n",
    "     - input is an advertisement with user information and output is with or without click --> online advertising\n",
    "     - input image or radar with an output of car positioning --> self-driving car\n",
    "     - input manufacturing materials and output is damages or defect --> visual inspections"
   ]
  },
  {
   "cell_type": "markdown",
   "id": "f2767b8b",
   "metadata": {},
   "source": [
    "<hr>\n",
    "\n",
    "### Using Data with Machine Learning"
   ]
  },
  {
   "cell_type": "markdown",
   "id": "4bab9884",
   "metadata": {},
   "source": [
    "<img src=\"images/data1.png\">\n",
    "\n",
    "A real estate company may want to use supervised learning to input size and number of bedrooms to declare a price that a house should be sold for.  \n",
    "\n",
    "On the other hand, a buyer may want to input a price they are willing to pay to output what size a house should be with their budget."
   ]
  },
  {
   "cell_type": "markdown",
   "id": "3ddc7069",
   "metadata": {},
   "source": [
    "<img src=\"images/data2.png\">\n",
    "A app developer may want to create a image recognition app. The data would include an input of images and an output of whether or not that image contained a specific object"
   ]
  },
  {
   "cell_type": "markdown",
   "id": "b43854e7",
   "metadata": {},
   "source": [
    "<img src=\"images/data3.png\">\n",
    "An application owner can use backend data to predict whether a product is selling to a specific sample of users. Manufacturing companies can use datasets with an input of machine traits (temperature, speed, etc.) to output whether that manufacturing machine is at risk of failing."
   ]
  },
  {
   "cell_type": "markdown",
   "id": "96e3508d",
   "metadata": {},
   "source": [
    "### Data is almost never perfect (especially big data)\n",
    "- can have missing values\n",
    "- can be labeled incorrectly\n",
    "- more data does not always mean rich data\n",
    "- there are numerous amounts of types of data"
   ]
  },
  {
   "cell_type": "markdown",
   "id": "23f2450c",
   "metadata": {},
   "source": [
    "<hr>\n",
    "\n",
    "### The Terminology of Artificial Intelligence\n",
    "\n",
    "<img src=\"images/mlds1.png\">"
   ]
  },
  {
   "cell_type": "markdown",
   "id": "4e6f20d9",
   "metadata": {},
   "source": [
    "<strong>Artificial Intelligence</strong> is usually a combination of a running AI system inside an application that adjusts based on the data provided to that application. In other words, it is an ongoing analysis that changes everytime new data is added to an active system. This is where B is adjusted based on the value of A.\n",
    "\n",
    "<strong>Data Science</strong>, on the other hand, can be defined as extracting knowledge from a snapshot of data. Rather than defining B as dependent on A, data science is when analysts derive what B's intrinsic value is based on the value of A."
   ]
  },
  {
   "cell_type": "markdown",
   "id": "961ad451",
   "metadata": {},
   "source": [
    "<img src=\"images/mlds2.png\">"
   ]
  },
  {
   "cell_type": "markdown",
   "id": "edd48e47",
   "metadata": {},
   "source": [
    "<hr>\n",
    "\n",
    "<strong>Deep Learning</strong>: Also known as Neural Network is a subset of artificial intelligence where inputs are fed into 'nodes' that process the input and output a value. It was insired by the neurons of a human brain, but has almost no relation to the human brain system.  \n",
    "\n",
    "<img src=\"images/mlds3.png\">"
   ]
  },
  {
   "cell_type": "markdown",
   "id": "38f353b3",
   "metadata": {},
   "source": [
    "<strong>The Hierarchy of AI</strong> is still an ongoing topic today. But the acceptable hierarchy is that Deep Learning Neural Networks are a subset of Machine Learning, and Machine Learning is a subset of Artificial Intelligence. Data Science, however, is neither a subset of AI nor an unrelated practice. Instead, data science can be viewed as another practice that uses certain tools and processes that is also used in AI.\n",
    "\n",
    "<img src=\"images/mlds4.png\">"
   ]
  },
  {
   "cell_type": "code",
   "execution_count": null,
   "id": "7fe3a5a1",
   "metadata": {},
   "outputs": [],
   "source": []
  }
 ],
 "metadata": {
  "kernelspec": {
   "display_name": "Python 3",
   "language": "python",
   "name": "python3"
  },
  "language_info": {
   "codemirror_mode": {
    "name": "ipython",
    "version": 3
   },
   "file_extension": ".py",
   "mimetype": "text/x-python",
   "name": "python",
   "nbconvert_exporter": "python",
   "pygments_lexer": "ipython3",
   "version": "3.8.9"
  }
 },
 "nbformat": 4,
 "nbformat_minor": 5
}
