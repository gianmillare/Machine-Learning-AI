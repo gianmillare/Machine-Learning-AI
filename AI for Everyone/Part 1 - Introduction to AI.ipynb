{
 "cells": [
  {
   "cell_type": "markdown",
   "id": "dab4e001",
   "metadata": {},
   "source": [
    "# What is Artificial Intelligence?"
   ]
  },
  {
   "cell_type": "markdown",
   "id": "ebf561ea",
   "metadata": {},
   "source": [
    "### Demystifying AI  \n",
    "\n",
    "Artificial Narrow Intelligence (ANI) - AI that is expected to do one specific task\n",
    "* Self-driving car\n",
    "* Web searches\n",
    "* Smart speakers\n",
    "\n",
    "Artificial General Intelligence (AGI) - AI that is expected to do anything a human can do.\n",
    "* Human abilities\n",
    "* Human thought\n",
    "* Human... emotions?"
   ]
  },
  {
   "cell_type": "markdown",
   "id": "db642a8e",
   "metadata": {},
   "source": [
    "### Machine Learning\n",
    "\n",
    "<strong>Supervised Learning</strong>\n",
    " - also known as A/B Testing --> Input -> Output Learning\n",
    " - Examples:\n",
    "     - Input A is an email and Output B is either Spam or Not Spam --> spam filtering\n",
    "     - Input A is ausio and output b is a text transcript --> speech recognition\n",
    "     - input A is english and output is chinese --> machine translation\n",
    "     - input is an advertisement with user information and output is with or without click --> online advertising\n",
    "     - input image or radar with an output of car positioning --> self-driving car\n",
    "     - input manufacturing materials and output is damages or defect --> visual inspections"
   ]
  },
  {
   "cell_type": "code",
   "execution_count": null,
   "id": "58d53b69",
   "metadata": {},
   "outputs": [],
   "source": []
  }
 ],
 "metadata": {
  "kernelspec": {
   "display_name": "Python 3",
   "language": "python",
   "name": "python3"
  },
  "language_info": {
   "codemirror_mode": {
    "name": "ipython",
    "version": 3
   },
   "file_extension": ".py",
   "mimetype": "text/x-python",
   "name": "python",
   "nbconvert_exporter": "python",
   "pygments_lexer": "ipython3",
   "version": "3.8.9"
  }
 },
 "nbformat": 4,
 "nbformat_minor": 5
}
