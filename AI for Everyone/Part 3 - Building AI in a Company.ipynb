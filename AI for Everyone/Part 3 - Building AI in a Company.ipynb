{
 "cells": [
  {
   "cell_type": "markdown",
   "id": "e7ee5df4",
   "metadata": {},
   "source": [
    "# Building AI in a Company"
   ]
  },
  {
   "cell_type": "markdown",
   "id": "18b165d6",
   "metadata": {},
   "source": [
    "<hr>\n",
    "\n",
    "### Case Study: Smart Speakers\n",
    "\n",
    "How do you get a device to understand commands and execute on it?\n",
    "\n",
    "- Step 1: Trigger word/wakeword --> \"Hey Siri\"\n",
    "- Step 2: Speech Recognition --> taking an audio and map it to a text --> \"Tell me a joke\"\n",
    "- Step 3: Intent Recognition --> this is usually a preset list of commands inherently built into the device\n",
    "    - whatever is recognized in the speech recognition process is what is chosen here\n",
    "    - \"what is the weather today\"\n",
    "    - \"what time is it?\"\n",
    "    - There may also be variants to one action --> \"Tell me a joke\" vs \"do you know any jokes?\"\n",
    "- Step 4: Execution --> \"Why did the chicken cross the road?\" \"To learn AI\""
   ]
  },
  {
   "cell_type": "markdown",
   "id": "260a0f76",
   "metadata": {},
   "source": [
    "<img src=\"images/company1.png\">"
   ]
  },
  {
   "cell_type": "markdown",
   "id": "d5ca4a52",
   "metadata": {},
   "source": [
    "<hr>\n",
    "\n",
    "### Case Study: Self-Driving Cars\n",
    "How to get an AI to detect objects on the road and react?\n",
    "- Step 1: Car detection\n",
    "    - images of other cars should be registered\n",
    "- Step 2: Pedestrian detection\n",
    "    - images of people need to be detected\n",
    "- Step 3: Motion Planning\n",
    "    - When a pedestrian or cars are located on video/image, react by breaking, moving, etc."
   ]
  },
  {
   "cell_type": "markdown",
   "id": "3c655be6",
   "metadata": {},
   "source": [
    "- Other things to consider:\n",
    "    - animals\n",
    "    - speed limits\n",
    "    - stop signs / red lights\n",
    "    - emergency sirens (firetrucks, police, etc.)\n",
    "    - lane lines (white vs. yellow)"
   ]
  },
  {
   "cell_type": "markdown",
   "id": "f1ca3d23",
   "metadata": {},
   "source": [
    "<hr>\n",
    "\n",
    "### Roles in an AI Team\n",
    "- Software Engineers --> Code for the device/model to understand human language\n",
    "- Machine Learning Engineer --> responsible to building the A/B mapping, input/ouput code.\n",
    "- Machine Learning Researcher --> Extend state-of-the-Art ML. Ensure using the most reliable framework, etc.\n",
    "- Applied Machine Learning Scientist --> Combination of ML Engineer and ML Researcher\n",
    "- Data Scientist --> role is not well defined. Examine data to provide insights, ensure ML model is providing desired results.\n",
    "- Data Engineers --> Help organize the data that is fed to the model. Also to save and secure the data. \n",
    "- AI Product Manager --> Decide what to build. What is feasible or what is valuable"
   ]
  },
  {
   "cell_type": "markdown",
   "id": "801efb76",
   "metadata": {},
   "source": [
    "<hr>\n",
    "\n",
    "### AI Transformation Playbook"
   ]
  },
  {
   "cell_type": "markdown",
   "id": "0839e879",
   "metadata": {},
   "source": [
    "- Step 1: Execute pilot projects to gain momentum\n",
    "    - The smaller pilot projects may not be the most important or valuable, but acts as a catalyst for the AI Team\n",
    "    - This usually means that the pilot project has a high probability of success\n",
    "    - Traction created in 6-12 months  \n",
    "    \n",
    "- Step 2: Build an in-house AI Team\n",
    "    - This is usually when higher ranked employees are taken out of the AI Team to leave just the core AI Team\n",
    "    - Goal is to centralize the core AI Team. This reduces noise on the AI Team.\n",
    "    - Another option is to put the AI domain experts into other business units that dont usually incorporate AI.  \n",
    "    \n",
    "- Step 3: Provide Broad AI training\n",
    "    - Executives and Business Leaders --> should learn what is AI? What can AI do for your company? AI Strategy?\n",
    "    - AI Leaders --> should learn project management in AI field, how to monitor AI-based progress\n",
    "    - AI Engineers --> Build and ship AI, how to gather data, how to execute AI Projects  \n",
    "    \n",
    "- Step 4: Develop an AI Strategy\n",
    "    - leverage AI to create an advantage specific to their industry\n",
    "    - the usual AI model follows: a better product --> more users --> more data --> create a better product --> more users...\n",
    "    - Create a strategy to obtain and interpret data\n",
    "    \n",
    "- Step 5: Develop Internal and External Communications\n",
    "    - Investor Relations --> Helping the economy\n",
    "    - Government Relations --> Helping politics and the general public (i.e. healthcare, markets, etc.)\n",
    "    - Consumer and user education\n",
    "    - shifts inside the company are sure to change where AI is applied. "
   ]
  },
  {
   "cell_type": "markdown",
   "id": "2b60b263",
   "metadata": {},
   "source": [
    "<hr>\n",
    "\n",
    "### First steps in AI"
   ]
  },
  {
   "cell_type": "markdown",
   "id": "43cd8b09",
   "metadata": {},
   "source": [
    "- Build connections in Artificial Intelligence\n",
    "- Brainstorm projects with engineering friends\n",
    "- Build smaller AI Projects on your own"
   ]
  },
  {
   "cell_type": "code",
   "execution_count": null,
   "id": "2e2def77",
   "metadata": {},
   "outputs": [],
   "source": []
  }
 ],
 "metadata": {
  "kernelspec": {
   "display_name": "Python 3",
   "language": "python",
   "name": "python3"
  },
  "language_info": {
   "codemirror_mode": {
    "name": "ipython",
    "version": 3
   },
   "file_extension": ".py",
   "mimetype": "text/x-python",
   "name": "python",
   "nbconvert_exporter": "python",
   "pygments_lexer": "ipython3",
   "version": "3.8.9"
  }
 },
 "nbformat": 4,
 "nbformat_minor": 5
}
