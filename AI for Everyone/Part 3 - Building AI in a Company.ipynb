{
 "cells": [
  {
   "cell_type": "markdown",
   "id": "f4a599e0",
   "metadata": {},
   "source": [
    "# Building AI in a Company"
   ]
  },
  {
   "cell_type": "markdown",
   "id": "b4c51a59",
   "metadata": {},
   "source": [
    "### Case Study: Smart Speakers\n",
    "\n",
    "How do you get a device to understand commands and execute on it?\n",
    "\n",
    "- Step 1: Trigger word/wakeword --> \"Hey Siri\"\n",
    "- Step 2: Speech Recognition --> taking an audio and map it to a text --> \"Tell me a joke\"\n",
    "- Step 3: Intent Recognition --> this is usually a preset list of commands inherently built into the device\n",
    "    - whatever is recognized in the speech recognition process is what is chosen here\n",
    "    - \"what is the weather today\"\n",
    "    - \"what time is it?\"\n",
    "    - There may also be variants to one action --> \"Tell me a joke\" vs \"do you know any jokes?\"\n",
    "- Step 4: Execution --> \"Why did the chicken cross the road?\" \"To learn AI\""
   ]
  },
  {
   "cell_type": "code",
   "execution_count": null,
   "id": "0549a5ed",
   "metadata": {},
   "outputs": [],
   "source": []
  }
 ],
 "metadata": {
  "kernelspec": {
   "display_name": "Python 3",
   "language": "python",
   "name": "python3"
  },
  "language_info": {
   "codemirror_mode": {
    "name": "ipython",
    "version": 3
   },
   "file_extension": ".py",
   "mimetype": "text/x-python",
   "name": "python",
   "nbconvert_exporter": "python",
   "pygments_lexer": "ipython3",
   "version": "3.8.9"
  }
 },
 "nbformat": 4,
 "nbformat_minor": 5
}
