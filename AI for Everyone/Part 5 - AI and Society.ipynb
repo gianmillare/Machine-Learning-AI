{
 "cells": [
  {
   "cell_type": "markdown",
   "id": "824fcd12",
   "metadata": {},
   "source": [
    "# AI and Society"
   ]
  },
  {
   "cell_type": "markdown",
   "id": "0b6b1480",
   "metadata": {},
   "source": [
    "<hr>\n",
    "\n",
    "### The Goldilocks Rule\n",
    "- It is best to not be too optimistic:\n",
    "    - People tend to believe that given too much power will result in killer robots\n",
    "    - There is an irritional fear on sentient robotics\n",
    "    - People should believe that AI can be used for good and should advance toward good.\n",
    "- It is best to not be too pessimistic\n",
    "    - AI cannot do EVERYTHING. Learn the limitations\n",
    "    - An AI winter may come again when people realize that AI still has a long way to go\n",
    "- The right thought:\n",
    "    - AI can't do everything, but can transform industries, and may one day transform the world."
   ]
  },
  {
   "cell_type": "markdown",
   "id": "eeb5a143",
   "metadata": {},
   "source": [
    "<hr>\n",
    "\n",
    "### Limitations of AI\n",
    "\n",
    "- Remember: AI systems may diagnose illnesses, but cannot explain whether they are correct or not. AI may help doctors perform medical diagnoses, but true expertise is still in the hands of the doctor."
   ]
  },
  {
   "cell_type": "markdown",
   "id": "5cf09da0",
   "metadata": {},
   "source": [
    "<hr>\n",
    "\n",
    "### AI can learn Unhealthy Stereotypes\n",
    "\n",
    "- AI still needs to be taught not to create bias.\n",
    "    - This is usually caused by a bias in data taken directly from society. i.e. if self-driving cars are only fed images of lighter skinned people, it will have trouble detecting darker skinned people.\n",
    "- If a AI is fed that most computer programmers are men and most women are homemakers, then it has been taught that men are laborers, and women are stay-at-home mothers. This, obviously, is a stereotype unrealistically taught to the AI.\n",
    "- shown mathematically:\n",
    "\n",
    "<img src=\"images/bias1.png\">"
   ]
  },
  {
   "cell_type": "markdown",
   "id": "5e0d05da",
   "metadata": {},
   "source": [
    "<hr>\n",
    "\n",
    "### Adversarial attacks on AI\n",
    "\n",
    "Any change or intended error to forcably change the actions of a system away from what it was created to do.  \n",
    "Examples:  \n",
    "- Modifying an image inside a self-driving cars database.\n",
    "- Changing a few words inside a NPL system to bypass a resume parser\n",
    "- Placing stickers on a stop sign, thereby preventing a self-driving from stopping."
   ]
  },
  {
   "cell_type": "markdown",
   "id": "4cbfa0c7",
   "metadata": {},
   "source": [
    "<hr>\n",
    "\n",
    "### Adverse Uses of AI\n",
    "<strong>DeepFakes</strong>: Synthesizing videos of people doing things that they never did.\n",
    "- This is obviously a problem because it is possible to fabricate (or frame) others using AI  \n",
    "\n",
    "<strong>Undermining of democracy and privacy</strong>: Oppressive surveillance  \n",
    "\n",
    "<strong>Generating fake comments</strong>: false reviews for businesses and products can effectively destroy lives."
   ]
  },
  {
   "cell_type": "code",
   "execution_count": null,
   "id": "f894fad1",
   "metadata": {},
   "outputs": [],
   "source": []
  }
 ],
 "metadata": {
  "kernelspec": {
   "display_name": "Python 3",
   "language": "python",
   "name": "python3"
  },
  "language_info": {
   "codemirror_mode": {
    "name": "ipython",
    "version": 3
   },
   "file_extension": ".py",
   "mimetype": "text/x-python",
   "name": "python",
   "nbconvert_exporter": "python",
   "pygments_lexer": "ipython3",
   "version": "3.8.9"
  }
 },
 "nbformat": 4,
 "nbformat_minor": 5
}
