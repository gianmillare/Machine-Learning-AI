{
 "cells": [
  {
   "cell_type": "markdown",
   "id": "dbb9ab86",
   "metadata": {},
   "source": [
    "# Types of Machine Learning Techniques"
   ]
  },
  {
   "cell_type": "markdown",
   "id": "115bbcee",
   "metadata": {},
   "source": [
    "<hr>\n",
    "\n",
    "### Supervised Learning\n",
    "\n",
    " - also known as A/B Testing --> Input -> Output Learning\n",
    " - Examples:\n",
    "     - Input A is an email and Output B is either Spam or Not Spam --> spam filtering\n",
    "     - Input A is ausio and output b is a text transcript --> speech recognition\n",
    "     - input A is english and output is chinese --> machine translation\n",
    "     - input is an advertisement with user information and output is with or without click --> online advertising\n",
    "     - input image or radar with an output of car positioning --> self-driving car\n",
    "     - input manufacturing materials and output is damages or defect --> visual inspections"
   ]
  },
  {
   "cell_type": "markdown",
   "id": "a769737b",
   "metadata": {},
   "source": [
    "<hr>\n",
    "\n",
    "### Unsupervised Learning\n",
    "\n",
    "Supervised Learning tells the AI system exactly what the output should be for a specific dataset/values. Unsupervised Learning just gives data to an AI system and asks it what the system finds, and to point out anything interesting (commonalities).\n",
    "\n",
    "<strong>Clustering</strong>\n",
    "- Commonly used for market segmentation\n",
    "- automatically groups the data into 2 or more groups to classify "
   ]
  },
  {
   "cell_type": "markdown",
   "id": "8bb9a0eb",
   "metadata": {},
   "source": [
    "<hr>\n",
    "\n",
    "### Transfer Learning\n",
    "\n",
    "Learn from a task A to use the knowledge to help on task B. Taking knowledge from one AI system and using portions of it in another system.\n",
    "\n",
    "<img src=\"images/type1.png\">"
   ]
  },
  {
   "cell_type": "markdown",
   "id": "d2ba274d",
   "metadata": {},
   "source": [
    "<hr>\n",
    "\n",
    "### Reinforcement Learning\n",
    "\n",
    "Using a \"reward signal\" to tell the AI that it has performed a desired function, or if it did not accomplish the desired function. This tpe of learning allows an AI to learn to maximize its \"rewards\". Common analogy is when a new puppy is taught throughout it's life using \"rewards\" like treats or \"good doggy\".\n",
    "\n",
    "Some AI's using reinforcement learning use large numbers as a \"good doggy\" and a small number for \"bad doggy\"."
   ]
  },
  {
   "cell_type": "markdown",
   "id": "79638cba",
   "metadata": {},
   "source": [
    "<hr>\n",
    "\n",
    "### GANs (Generative Adversarial Network)\n",
    "\n",
    "synthesizing new images from scratch"
   ]
  },
  {
   "cell_type": "markdown",
   "id": "650dee42",
   "metadata": {},
   "source": [
    "<hr>\n",
    "\n",
    "### Knowledge Graph\n",
    "\n",
    "A database of key information relative to a specific person, place, or thing.  \n",
    "\n",
    "Example: Google Search returns a \"card\" of important information.  \n",
    "\n",
    "<img src=\"images/type2.png\">"
   ]
  },
  {
   "cell_type": "code",
   "execution_count": null,
   "id": "e9359297",
   "metadata": {},
   "outputs": [],
   "source": []
  }
 ],
 "metadata": {
  "kernelspec": {
   "display_name": "Python 3",
   "language": "python",
   "name": "python3"
  },
  "language_info": {
   "codemirror_mode": {
    "name": "ipython",
    "version": 3
   },
   "file_extension": ".py",
   "mimetype": "text/x-python",
   "name": "python",
   "nbconvert_exporter": "python",
   "pygments_lexer": "ipython3",
   "version": "3.8.9"
  }
 },
 "nbformat": 4,
 "nbformat_minor": 5
}
