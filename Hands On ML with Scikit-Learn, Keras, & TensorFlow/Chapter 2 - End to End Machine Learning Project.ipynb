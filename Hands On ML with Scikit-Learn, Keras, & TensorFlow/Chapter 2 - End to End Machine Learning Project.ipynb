{
 "cells": [
  {
   "cell_type": "markdown",
   "metadata": {},
   "source": [
    "# ML Project: California Housing Prices\n",
    "\n",
    "<strong>Objective: </strong>Create a model that outputs a prediction of a district's median housing price"
   ]
  },
  {
   "cell_type": "markdown",
   "metadata": {},
   "source": [
    "### Step 1: Frame the Problem and Choose a Learning\n",
    "\n",
    "This is a typical supervised learning task since you are given labeled training examples (each instance comes with an expected output - housing price)  \n",
    "\n",
    "It is also a typical regression task because you are predicting a value.  \n",
    "\n",
    "<strong>Multiple Regression</strong>: more specifically, this is a multiple regression task because we are using multiple values (characteristics) to predict an outcome.  \n",
    "\n",
    "Lastly, because the there is no continuous flow of data and the data is small enough to fit memory, simple batch learning should be fine."
   ]
  },
  {
   "cell_type": "code",
   "execution_count": null,
   "metadata": {},
   "outputs": [],
   "source": []
  }
 ],
 "metadata": {
  "kernelspec": {
   "display_name": "Python 3",
   "language": "python",
   "name": "python3"
  },
  "language_info": {
   "codemirror_mode": {
    "name": "ipython",
    "version": 3
   },
   "file_extension": ".py",
   "mimetype": "text/x-python",
   "name": "python",
   "nbconvert_exporter": "python",
   "pygments_lexer": "ipython3",
   "version": "3.8.5"
  }
 },
 "nbformat": 4,
 "nbformat_minor": 4
}
