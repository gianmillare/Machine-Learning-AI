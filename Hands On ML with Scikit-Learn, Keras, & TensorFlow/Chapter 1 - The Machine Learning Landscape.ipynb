{
 "cells": [
  {
   "cell_type": "markdown",
   "metadata": {},
   "source": [
    "# The Machine Learning Landscape"
   ]
  },
  {
   "cell_type": "markdown",
   "metadata": {},
   "source": [
    "### Type of Machine Learning Systems"
   ]
  },
  {
   "cell_type": "markdown",
   "metadata": {},
   "source": [
    "##### Supervised  Learning\n",
    "The training set (data) you feed into the algorithm includes the desired solution (often called 'labels').\n",
    "\n",
    "Classification is a typical supervised learning task. Spam filters is an example of Supervised Learning, where users tell the filter what is Spam / Ham and the machine learns to classify future emails as Spam as a result. \n",
    "\n",
    "##### "
   ]
  }
 ],
 "metadata": {
  "kernelspec": {
   "display_name": "Python 3",
   "language": "python",
   "name": "python3"
  },
  "language_info": {
   "codemirror_mode": {
    "name": "ipython",
    "version": 3
   },
   "file_extension": ".py",
   "mimetype": "text/x-python",
   "name": "python",
   "nbconvert_exporter": "python",
   "pygments_lexer": "ipython3",
   "version": "3.8.5"
  }
 },
 "nbformat": 4,
 "nbformat_minor": 4
}
