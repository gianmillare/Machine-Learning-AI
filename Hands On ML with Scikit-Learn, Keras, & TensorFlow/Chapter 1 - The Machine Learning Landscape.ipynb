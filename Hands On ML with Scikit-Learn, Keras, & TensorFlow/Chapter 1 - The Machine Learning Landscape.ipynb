{
 "cells": [
  {
   "cell_type": "markdown",
   "metadata": {},
   "source": [
    "# Ch. 1 - The Machine Learning Landscape"
   ]
  },
  {
   "cell_type": "markdown",
   "metadata": {},
   "source": [
    "### Type of Machine Learning Systems"
   ]
  },
  {
   "cell_type": "markdown",
   "metadata": {},
   "source": [
    "##### <strong>Supervised  Learning<strone>\n",
    "\n",
    "<u>Definition</u>: The training set (data) you feed into the algorithm includes the desired solution (often called 'labels').\n",
    "\n",
    "Example: Classification is a typical supervised learning task. Spam filters is an example of Supervised Learning, where users tell the filter what is Spam / Ham and the machine learns to classify future emails as Spam as a result. \n",
    "\n",
    "Example: Predictions is another use case for supervised learning. We can predict numerical values (i.e. prices) given a set of features (brands, mileage, etc.) called predictors. \n",
    "\n",
    "This is a <strong>Regression</strong> based approach to Supervised Learning. To train the model, you would need to give the computer examples. For example: Honda average car is 30,000 and Mercedes average car is 70,000.\n",
    "\n",
    "<strong>Logistic Regression</strong> is another type of regression that is often used in classifications. Logistic regression can be used to find the probability rhat something belongs to a specific class (i.e. this email has a 20% chance of being spam)\n",
    "\n",
    "<u>Examples of Supervised Learning Algorithms</u>  \n",
    "k-Nearest Neighbors  \n",
    "Linear Regression  \n",
    "Logistic Regression  \n",
    "Support Vector Machines (SVMs)  \n",
    "Decision Trees & Random Forests  \n",
    "Neural Networks"
   ]
  },
  {
   "cell_type": "code",
   "execution_count": null,
   "metadata": {},
   "outputs": [],
   "source": []
  }
 ],
 "metadata": {
  "kernelspec": {
   "display_name": "Python 3",
   "language": "python",
   "name": "python3"
  },
  "language_info": {
   "codemirror_mode": {
    "name": "ipython",
    "version": 3
   },
   "file_extension": ".py",
   "mimetype": "text/x-python",
   "name": "python",
   "nbconvert_exporter": "python",
   "pygments_lexer": "ipython3",
   "version": "3.8.5"
  }
 },
 "nbformat": 4,
 "nbformat_minor": 4
}
