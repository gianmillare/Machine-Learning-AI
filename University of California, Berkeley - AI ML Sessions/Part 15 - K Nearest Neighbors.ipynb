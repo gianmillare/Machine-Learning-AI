{
 "cells": [
  {
   "cell_type": "markdown",
   "metadata": {},
   "source": [
    "# K-Nearest Neighbors\n",
    "\n",
    "For any given point on a dataset, find the nth number of nearest numbers (values) and use those values as a classifier"
   ]
  },
  {
   "cell_type": "markdown",
   "metadata": {},
   "source": [
    "# K is your manipulative point\n",
    "\n",
    "if k =1, find the nearest point to your value and the class of that point is the class of your value\n",
    "\n",
    "if k = 3 then find the 3 nearest points to your value, and the average or majority class of those points is the class of your value"
   ]
  },
  {
   "cell_type": "markdown",
   "metadata": {},
   "source": [
    "# Choosing a K\n",
    "\n",
    "Most methods to choosing K use a loop through a range of K and a calculated score"
   ]
  }
 ],
 "metadata": {
  "kernelspec": {
   "display_name": "Python 3",
   "language": "python",
   "name": "python3"
  },
  "language_info": {
   "codemirror_mode": {
    "name": "ipython",
    "version": 3
   },
   "file_extension": ".py",
   "mimetype": "text/x-python",
   "name": "python",
   "nbconvert_exporter": "python",
   "pygments_lexer": "ipython3",
   "version": "3.8.5"
  }
 },
 "nbformat": 4,
 "nbformat_minor": 2
}
