{
 "cells": [
  {
   "cell_type": "markdown",
   "metadata": {},
   "source": [
    "# K-Nearest Neighbors\n",
    "\n",
    "At any point on the dataset, whatever the closest K values are to that point is what that point is classified as"
   ]
  },
  {
   "cell_type": "markdown",
   "metadata": {},
   "source": [
    "### K is your manipulative point\n",
    "\n",
    "if k =1, find the nearest point to your value and the class of that point is the class of your value\n",
    "\n",
    "if k = 3 then find the 3 nearest points to your value, and the average or majority class of those points is the class of your value"
   ]
  },
  {
   "cell_type": "markdown",
   "metadata": {},
   "source": [
    "### Imaged examples from K = 1, K = 3, and K = 5"
   ]
  },
  {
   "cell_type": "markdown",
   "metadata": {},
   "source": [
    "<img src=\"images/k1.png\">\n",
    "<img src=\"images/k3.png\">\n",
    "<img src=\"images/k5.png\">"
   ]
  },
  {
   "cell_type": "markdown",
   "metadata": {},
   "source": [
    "# Choosing a K\n",
    "\n",
    "Most methods to choosing K use a loop through a range of K and a calculated score"
   ]
  }
 ],
 "metadata": {
  "kernelspec": {
   "display_name": "Python 3",
   "language": "python",
   "name": "python3"
  },
  "language_info": {
   "codemirror_mode": {
    "name": "ipython",
    "version": 3
   },
   "file_extension": ".py",
   "mimetype": "text/x-python",
   "name": "python",
   "nbconvert_exporter": "python",
   "pygments_lexer": "ipython3",
   "version": "3.8.5"
  }
 },
 "nbformat": 4,
 "nbformat_minor": 2
}
