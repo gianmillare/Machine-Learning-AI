{
 "cells": [
  {
   "cell_type": "markdown",
   "metadata": {},
   "source": [
    "# K-Nearest Neighbors\n",
    "\n",
    "At any point on the dataset, whatever the closest K values are to that point is what that point is classified as"
   ]
  },
  {
   "cell_type": "markdown",
   "metadata": {},
   "source": [
    "### K is your manipulative point\n",
    "\n",
    "if k =1, find the nearest point to your value and the class of that point is the class of your value\n",
    "\n",
    "if k = 3 then find the 3 nearest points to your value, and the average or majority class of those points is the class of your value"
   ]
  },
  {
   "cell_type": "markdown",
   "metadata": {},
   "source": [
    "### Imaged examples from K = 1, K = 3, and K = 5"
   ]
  },
  {
   "cell_type": "markdown",
   "metadata": {},
   "source": [
    "<img src=\"images/k1.png\">\n",
    "<img src=\"images/k3.png\">\n",
    "<img src=\"images/k5.png\">"
   ]
  },
  {
   "cell_type": "markdown",
   "metadata": {},
   "source": [
    "### How to choose a K?\n",
    "\n",
    "Most methods to choosing K use a loop through a range of K and a calculated score  \n",
    "Example:"
   ]
  },
  {
   "cell_type": "markdown",
   "metadata": {},
   "source": [
    "<img src=\"images/kexample.png\">"
   ]
  },
  {
   "cell_type": "markdown",
   "metadata": {},
   "source": [
    "#### Eventually you will reach a point where all other datapoints are within k. At that point K nearest neighbors will take the majority"
   ]
  },
  {
   "cell_type": "code",
   "execution_count": 1,
   "metadata": {},
   "outputs": [],
   "source": [
    "# NOTE: K Nearest Neighbors isnt like other models. It is more of an algorithmic/practical approach to classification"
   ]
  },
  {
   "cell_type": "code",
   "execution_count": null,
   "metadata": {},
   "outputs": [],
   "source": []
  }
 ],
 "metadata": {
  "kernelspec": {
   "display_name": "Python 3",
   "language": "python",
   "name": "python3"
  },
  "language_info": {
   "codemirror_mode": {
    "name": "ipython",
    "version": 3
   },
   "file_extension": ".py",
   "mimetype": "text/x-python",
   "name": "python",
   "nbconvert_exporter": "python",
   "pygments_lexer": "ipython3",
   "version": "3.8.5"
  }
 },
 "nbformat": 4,
 "nbformat_minor": 2
}
