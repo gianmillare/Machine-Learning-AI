{
 "cells": [
  {
   "cell_type": "markdown",
   "metadata": {},
   "source": [
    "# Saving Models\n",
    "\n",
    "Using the previous data (voice.csv) as an example, these notes will show how to save models."
   ]
  },
  {
   "cell_type": "code",
   "execution_count": 21,
   "metadata": {},
   "outputs": [],
   "source": [
    "# Step 1: Import Dependencies\n",
    "\n",
    "import numpy as np\n",
    "import pandas as pd"
   ]
  },
  {
   "cell_type": "code",
   "execution_count": 22,
   "metadata": {},
   "outputs": [
    {
     "data": {
      "text/html": [
       "<div>\n",
       "<style scoped>\n",
       "    .dataframe tbody tr th:only-of-type {\n",
       "        vertical-align: middle;\n",
       "    }\n",
       "\n",
       "    .dataframe tbody tr th {\n",
       "        vertical-align: top;\n",
       "    }\n",
       "\n",
       "    .dataframe thead th {\n",
       "        text-align: right;\n",
       "    }\n",
       "</style>\n",
       "<table border=\"1\" class=\"dataframe\">\n",
       "  <thead>\n",
       "    <tr style=\"text-align: right;\">\n",
       "      <th></th>\n",
       "      <th>meanfreq</th>\n",
       "      <th>sd</th>\n",
       "      <th>median</th>\n",
       "      <th>Q25</th>\n",
       "      <th>Q75</th>\n",
       "      <th>IQR</th>\n",
       "      <th>skew</th>\n",
       "      <th>kurt</th>\n",
       "      <th>sp.ent</th>\n",
       "      <th>sfm</th>\n",
       "      <th>...</th>\n",
       "      <th>centroid</th>\n",
       "      <th>meanfun</th>\n",
       "      <th>minfun</th>\n",
       "      <th>maxfun</th>\n",
       "      <th>meandom</th>\n",
       "      <th>mindom</th>\n",
       "      <th>maxdom</th>\n",
       "      <th>dfrange</th>\n",
       "      <th>modindx</th>\n",
       "      <th>label</th>\n",
       "    </tr>\n",
       "  </thead>\n",
       "  <tbody>\n",
       "    <tr>\n",
       "      <th>0</th>\n",
       "      <td>0.059781</td>\n",
       "      <td>0.064241</td>\n",
       "      <td>0.032027</td>\n",
       "      <td>0.015071</td>\n",
       "      <td>0.090193</td>\n",
       "      <td>0.075122</td>\n",
       "      <td>12.863462</td>\n",
       "      <td>274.402906</td>\n",
       "      <td>0.893369</td>\n",
       "      <td>0.491918</td>\n",
       "      <td>...</td>\n",
       "      <td>0.059781</td>\n",
       "      <td>0.084279</td>\n",
       "      <td>0.015702</td>\n",
       "      <td>0.275862</td>\n",
       "      <td>0.007812</td>\n",
       "      <td>0.007812</td>\n",
       "      <td>0.007812</td>\n",
       "      <td>0.000000</td>\n",
       "      <td>0.000000</td>\n",
       "      <td>male</td>\n",
       "    </tr>\n",
       "    <tr>\n",
       "      <th>1</th>\n",
       "      <td>0.066009</td>\n",
       "      <td>0.067310</td>\n",
       "      <td>0.040229</td>\n",
       "      <td>0.019414</td>\n",
       "      <td>0.092666</td>\n",
       "      <td>0.073252</td>\n",
       "      <td>22.423285</td>\n",
       "      <td>634.613855</td>\n",
       "      <td>0.892193</td>\n",
       "      <td>0.513724</td>\n",
       "      <td>...</td>\n",
       "      <td>0.066009</td>\n",
       "      <td>0.107937</td>\n",
       "      <td>0.015826</td>\n",
       "      <td>0.250000</td>\n",
       "      <td>0.009014</td>\n",
       "      <td>0.007812</td>\n",
       "      <td>0.054688</td>\n",
       "      <td>0.046875</td>\n",
       "      <td>0.052632</td>\n",
       "      <td>male</td>\n",
       "    </tr>\n",
       "    <tr>\n",
       "      <th>2</th>\n",
       "      <td>0.077316</td>\n",
       "      <td>0.083829</td>\n",
       "      <td>0.036718</td>\n",
       "      <td>0.008701</td>\n",
       "      <td>0.131908</td>\n",
       "      <td>0.123207</td>\n",
       "      <td>30.757155</td>\n",
       "      <td>1024.927705</td>\n",
       "      <td>0.846389</td>\n",
       "      <td>0.478905</td>\n",
       "      <td>...</td>\n",
       "      <td>0.077316</td>\n",
       "      <td>0.098706</td>\n",
       "      <td>0.015656</td>\n",
       "      <td>0.271186</td>\n",
       "      <td>0.007990</td>\n",
       "      <td>0.007812</td>\n",
       "      <td>0.015625</td>\n",
       "      <td>0.007812</td>\n",
       "      <td>0.046512</td>\n",
       "      <td>male</td>\n",
       "    </tr>\n",
       "    <tr>\n",
       "      <th>3</th>\n",
       "      <td>0.151228</td>\n",
       "      <td>0.072111</td>\n",
       "      <td>0.158011</td>\n",
       "      <td>0.096582</td>\n",
       "      <td>0.207955</td>\n",
       "      <td>0.111374</td>\n",
       "      <td>1.232831</td>\n",
       "      <td>4.177296</td>\n",
       "      <td>0.963322</td>\n",
       "      <td>0.727232</td>\n",
       "      <td>...</td>\n",
       "      <td>0.151228</td>\n",
       "      <td>0.088965</td>\n",
       "      <td>0.017798</td>\n",
       "      <td>0.250000</td>\n",
       "      <td>0.201497</td>\n",
       "      <td>0.007812</td>\n",
       "      <td>0.562500</td>\n",
       "      <td>0.554688</td>\n",
       "      <td>0.247119</td>\n",
       "      <td>male</td>\n",
       "    </tr>\n",
       "    <tr>\n",
       "      <th>4</th>\n",
       "      <td>0.135120</td>\n",
       "      <td>0.079146</td>\n",
       "      <td>0.124656</td>\n",
       "      <td>0.078720</td>\n",
       "      <td>0.206045</td>\n",
       "      <td>0.127325</td>\n",
       "      <td>1.101174</td>\n",
       "      <td>4.333713</td>\n",
       "      <td>0.971955</td>\n",
       "      <td>0.783568</td>\n",
       "      <td>...</td>\n",
       "      <td>0.135120</td>\n",
       "      <td>0.106398</td>\n",
       "      <td>0.016931</td>\n",
       "      <td>0.266667</td>\n",
       "      <td>0.712812</td>\n",
       "      <td>0.007812</td>\n",
       "      <td>5.484375</td>\n",
       "      <td>5.476562</td>\n",
       "      <td>0.208274</td>\n",
       "      <td>male</td>\n",
       "    </tr>\n",
       "  </tbody>\n",
       "</table>\n",
       "<p>5 rows × 21 columns</p>\n",
       "</div>"
      ],
      "text/plain": [
       "   meanfreq        sd    median       Q25       Q75       IQR       skew  \\\n",
       "0  0.059781  0.064241  0.032027  0.015071  0.090193  0.075122  12.863462   \n",
       "1  0.066009  0.067310  0.040229  0.019414  0.092666  0.073252  22.423285   \n",
       "2  0.077316  0.083829  0.036718  0.008701  0.131908  0.123207  30.757155   \n",
       "3  0.151228  0.072111  0.158011  0.096582  0.207955  0.111374   1.232831   \n",
       "4  0.135120  0.079146  0.124656  0.078720  0.206045  0.127325   1.101174   \n",
       "\n",
       "          kurt    sp.ent       sfm  ...  centroid   meanfun    minfun  \\\n",
       "0   274.402906  0.893369  0.491918  ...  0.059781  0.084279  0.015702   \n",
       "1   634.613855  0.892193  0.513724  ...  0.066009  0.107937  0.015826   \n",
       "2  1024.927705  0.846389  0.478905  ...  0.077316  0.098706  0.015656   \n",
       "3     4.177296  0.963322  0.727232  ...  0.151228  0.088965  0.017798   \n",
       "4     4.333713  0.971955  0.783568  ...  0.135120  0.106398  0.016931   \n",
       "\n",
       "     maxfun   meandom    mindom    maxdom   dfrange   modindx  label  \n",
       "0  0.275862  0.007812  0.007812  0.007812  0.000000  0.000000   male  \n",
       "1  0.250000  0.009014  0.007812  0.054688  0.046875  0.052632   male  \n",
       "2  0.271186  0.007990  0.007812  0.015625  0.007812  0.046512   male  \n",
       "3  0.250000  0.201497  0.007812  0.562500  0.554688  0.247119   male  \n",
       "4  0.266667  0.712812  0.007812  5.484375  5.476562  0.208274   male  \n",
       "\n",
       "[5 rows x 21 columns]"
      ]
     },
     "execution_count": 22,
     "metadata": {},
     "output_type": "execute_result"
    }
   ],
   "source": [
    "# Step 2: Load the Data\n",
    "\n",
    "voice = pd.read_csv(\"resources/voice.csv\")\n",
    "voice.head()"
   ]
  },
  {
   "cell_type": "code",
   "execution_count": 23,
   "metadata": {},
   "outputs": [
    {
     "name": "stdout",
     "output_type": "stream",
     "text": [
      "(3168, 20) (3168,)\n"
     ]
    }
   ],
   "source": [
    "# Step 3: Assign X and y\n",
    "\n",
    "X = voice.drop(\"label\", axis=1)\n",
    "y = voice[\"label\"]\n",
    "print(X.shape, y.shape)"
   ]
  },
  {
   "cell_type": "code",
   "execution_count": 24,
   "metadata": {},
   "outputs": [],
   "source": [
    "# Step 4: Train Test Split the data\n",
    "\n",
    "from sklearn.model_selection import train_test_split\n",
    "\n",
    "X_train, X_test, y_train, y_test = train_test_split(X, y, random_state=1, stratify=y)"
   ]
  },
  {
   "cell_type": "markdown",
   "metadata": {},
   "source": [
    "### Preprocess the data (scale and one hot encode the data)"
   ]
  },
  {
   "cell_type": "code",
   "execution_count": 25,
   "metadata": {},
   "outputs": [],
   "source": [
    "# Step 5: Use StandardScaler to scale X\n",
    "\n",
    "from sklearn.preprocessing import StandardScaler\n",
    "\n",
    "X_scaler = StandardScaler().fit(X_train)\n",
    "X_train_scaled = X_scaler.transform(X_train)\n",
    "X_test_scaled = X_scaler.transform(X_test)"
   ]
  },
  {
   "cell_type": "code",
   "execution_count": 26,
   "metadata": {},
   "outputs": [],
   "source": [
    "# Step 6: Use Label Encoder to encode the y before one hot encoding\n",
    "\n",
    "from sklearn.preprocessing import LabelEncoder\n",
    "\n",
    "label_encoder = LabelEncoder()\n",
    "label_encoder.fit(y_train)\n",
    "encoded_y_train = label_encoder.transform(y_train)\n",
    "encoded_y_test = label_encoder.transform(y_test)"
   ]
  },
  {
   "cell_type": "code",
   "execution_count": 27,
   "metadata": {},
   "outputs": [],
   "source": [
    "import tensorflow"
   ]
  },
  {
   "cell_type": "code",
   "execution_count": 28,
   "metadata": {},
   "outputs": [],
   "source": [
    "# Step 7: Use one hot encoding to make the labels legible tot he computer\n",
    "\n",
    "from keras.utils import to_categorical\n",
    "\n",
    "y_train_categorical = to_categorical(encoded_y_train)\n",
    "y_test_categorical = to_categorical(encoded_y_test)"
   ]
  },
  {
   "cell_type": "markdown",
   "metadata": {},
   "source": [
    "# Create a Deep Learning Neural Network"
   ]
  },
  {
   "cell_type": "code",
   "execution_count": 29,
   "metadata": {},
   "outputs": [],
   "source": [
    "# Step 8: Create the model using Sequential and Dense\n",
    "\n",
    "from keras.models import Sequential\n",
    "from keras.layers import Dense\n",
    "\n",
    "model = Sequential()\n",
    "model.add(Dense(units=100, activation='relu', input_dim=20))\n",
    "model.add(Dense(units=100, activation='relu'))\n",
    "model.add(Dense(units=2, activation='softmax'))"
   ]
  },
  {
   "cell_type": "code",
   "execution_count": 30,
   "metadata": {},
   "outputs": [],
   "source": [
    "# Step 9: Compile the model\n",
    "\n",
    "model.compile(optimizer='adam', loss='categorical_crossentropy', metrics=['accuracy'])"
   ]
  },
  {
   "cell_type": "code",
   "execution_count": 31,
   "metadata": {},
   "outputs": [
    {
     "name": "stdout",
     "output_type": "stream",
     "text": [
      "Epoch 1/100\n",
      "75/75 - 0s - loss: 0.2453 - accuracy: 0.9045\n",
      "Epoch 2/100\n",
      "75/75 - 0s - loss: 0.0873 - accuracy: 0.9752\n",
      "Epoch 3/100\n",
      "75/75 - 0s - loss: 0.0717 - accuracy: 0.9769\n",
      "Epoch 4/100\n",
      "75/75 - 0s - loss: 0.0661 - accuracy: 0.9790\n",
      "Epoch 5/100\n",
      "75/75 - 0s - loss: 0.0582 - accuracy: 0.9802\n",
      "Epoch 6/100\n",
      "75/75 - 0s - loss: 0.0540 - accuracy: 0.9802\n",
      "Epoch 7/100\n",
      "75/75 - 0s - loss: 0.0505 - accuracy: 0.9806\n",
      "Epoch 8/100\n",
      "75/75 - 0s - loss: 0.0465 - accuracy: 0.9815\n",
      "Epoch 9/100\n",
      "75/75 - 0s - loss: 0.0438 - accuracy: 0.9832\n",
      "Epoch 10/100\n",
      "75/75 - 0s - loss: 0.0385 - accuracy: 0.9848\n",
      "Epoch 11/100\n",
      "75/75 - 0s - loss: 0.0375 - accuracy: 0.9857\n",
      "Epoch 12/100\n",
      "75/75 - 0s - loss: 0.0382 - accuracy: 0.9848\n",
      "Epoch 13/100\n",
      "75/75 - 0s - loss: 0.0313 - accuracy: 0.9861\n",
      "Epoch 14/100\n",
      "75/75 - 0s - loss: 0.0286 - accuracy: 0.9907\n",
      "Epoch 15/100\n",
      "75/75 - 0s - loss: 0.0285 - accuracy: 0.9903\n",
      "Epoch 16/100\n",
      "75/75 - 0s - loss: 0.0251 - accuracy: 0.9899\n",
      "Epoch 17/100\n",
      "75/75 - 0s - loss: 0.0257 - accuracy: 0.9907\n",
      "Epoch 18/100\n",
      "75/75 - 0s - loss: 0.0248 - accuracy: 0.9924\n",
      "Epoch 19/100\n",
      "75/75 - 0s - loss: 0.0213 - accuracy: 0.9924\n",
      "Epoch 20/100\n",
      "75/75 - 0s - loss: 0.0203 - accuracy: 0.9933\n",
      "Epoch 21/100\n",
      "75/75 - 0s - loss: 0.0193 - accuracy: 0.9954\n",
      "Epoch 22/100\n",
      "75/75 - 0s - loss: 0.0168 - accuracy: 0.9949\n",
      "Epoch 23/100\n",
      "75/75 - 0s - loss: 0.0149 - accuracy: 0.9962\n",
      "Epoch 24/100\n",
      "75/75 - 0s - loss: 0.0161 - accuracy: 0.9949\n",
      "Epoch 25/100\n",
      "75/75 - 0s - loss: 0.0156 - accuracy: 0.9949\n",
      "Epoch 26/100\n",
      "75/75 - 0s - loss: 0.0139 - accuracy: 0.9962\n",
      "Epoch 27/100\n",
      "75/75 - 0s - loss: 0.0110 - accuracy: 0.9971\n",
      "Epoch 28/100\n",
      "75/75 - 0s - loss: 0.0103 - accuracy: 0.9975\n",
      "Epoch 29/100\n",
      "75/75 - 0s - loss: 0.0107 - accuracy: 0.9979\n",
      "Epoch 30/100\n",
      "75/75 - 0s - loss: 0.0098 - accuracy: 0.9983\n",
      "Epoch 31/100\n",
      "75/75 - 0s - loss: 0.0094 - accuracy: 0.9971\n",
      "Epoch 32/100\n",
      "75/75 - 0s - loss: 0.0069 - accuracy: 0.9992\n",
      "Epoch 33/100\n",
      "75/75 - 0s - loss: 0.0161 - accuracy: 0.9937\n",
      "Epoch 34/100\n",
      "75/75 - 0s - loss: 0.0091 - accuracy: 0.9971\n",
      "Epoch 35/100\n",
      "75/75 - 0s - loss: 0.0094 - accuracy: 0.9975\n",
      "Epoch 36/100\n",
      "75/75 - 0s - loss: 0.0136 - accuracy: 0.9971\n",
      "Epoch 37/100\n",
      "75/75 - 0s - loss: 0.0067 - accuracy: 0.9983\n",
      "Epoch 38/100\n",
      "75/75 - 0s - loss: 0.0116 - accuracy: 0.9971\n",
      "Epoch 39/100\n",
      "75/75 - 0s - loss: 0.0091 - accuracy: 0.9966\n",
      "Epoch 40/100\n",
      "75/75 - 0s - loss: 0.0042 - accuracy: 0.9996\n",
      "Epoch 41/100\n",
      "75/75 - 0s - loss: 0.0045 - accuracy: 0.9983\n",
      "Epoch 42/100\n",
      "75/75 - 0s - loss: 0.0031 - accuracy: 0.9992\n",
      "Epoch 43/100\n",
      "75/75 - 0s - loss: 0.0059 - accuracy: 0.9975\n",
      "Epoch 44/100\n",
      "75/75 - 0s - loss: 0.0025 - accuracy: 1.0000\n",
      "Epoch 45/100\n",
      "75/75 - 0s - loss: 0.0024 - accuracy: 0.9996\n",
      "Epoch 46/100\n",
      "75/75 - 0s - loss: 0.0026 - accuracy: 0.9996\n",
      "Epoch 47/100\n",
      "75/75 - 0s - loss: 0.0024 - accuracy: 0.9996\n",
      "Epoch 48/100\n",
      "75/75 - 0s - loss: 0.0030 - accuracy: 0.9992\n",
      "Epoch 49/100\n",
      "75/75 - 0s - loss: 0.0054 - accuracy: 0.9983\n",
      "Epoch 50/100\n",
      "75/75 - 0s - loss: 0.0038 - accuracy: 0.9987\n",
      "Epoch 51/100\n",
      "75/75 - 0s - loss: 0.0030 - accuracy: 0.9996\n",
      "Epoch 52/100\n",
      "75/75 - 0s - loss: 0.0034 - accuracy: 0.9992\n",
      "Epoch 53/100\n",
      "75/75 - 0s - loss: 0.0022 - accuracy: 0.9992\n",
      "Epoch 54/100\n",
      "75/75 - 0s - loss: 0.0014 - accuracy: 1.0000\n",
      "Epoch 55/100\n",
      "75/75 - 0s - loss: 0.0014 - accuracy: 1.0000\n",
      "Epoch 56/100\n",
      "75/75 - 0s - loss: 0.0011 - accuracy: 1.0000\n",
      "Epoch 57/100\n",
      "75/75 - 0s - loss: 8.4724e-04 - accuracy: 1.0000\n",
      "Epoch 58/100\n",
      "75/75 - 0s - loss: 0.0010 - accuracy: 1.0000\n",
      "Epoch 59/100\n",
      "75/75 - 0s - loss: 9.3511e-04 - accuracy: 1.0000\n",
      "Epoch 60/100\n",
      "75/75 - 0s - loss: 7.7141e-04 - accuracy: 1.0000\n",
      "Epoch 61/100\n",
      "75/75 - 0s - loss: 7.9341e-04 - accuracy: 1.0000\n",
      "Epoch 62/100\n",
      "75/75 - 0s - loss: 0.0017 - accuracy: 0.9996\n",
      "Epoch 63/100\n",
      "75/75 - 0s - loss: 0.0154 - accuracy: 0.9962\n",
      "Epoch 64/100\n",
      "75/75 - 0s - loss: 0.0326 - accuracy: 0.9912\n",
      "Epoch 65/100\n",
      "75/75 - 0s - loss: 0.0229 - accuracy: 0.9920\n",
      "Epoch 66/100\n",
      "75/75 - 0s - loss: 0.0109 - accuracy: 0.9962\n",
      "Epoch 67/100\n",
      "75/75 - 0s - loss: 0.0048 - accuracy: 0.9987\n",
      "Epoch 68/100\n",
      "75/75 - 0s - loss: 0.0020 - accuracy: 1.0000\n",
      "Epoch 69/100\n",
      "75/75 - 0s - loss: 0.0012 - accuracy: 1.0000\n",
      "Epoch 70/100\n",
      "75/75 - 0s - loss: 9.6440e-04 - accuracy: 1.0000\n",
      "Epoch 71/100\n",
      "75/75 - 0s - loss: 8.3976e-04 - accuracy: 1.0000\n",
      "Epoch 72/100\n",
      "75/75 - 0s - loss: 7.0355e-04 - accuracy: 1.0000\n",
      "Epoch 73/100\n",
      "75/75 - 0s - loss: 6.4677e-04 - accuracy: 1.0000\n",
      "Epoch 74/100\n",
      "75/75 - 0s - loss: 6.5681e-04 - accuracy: 1.0000\n",
      "Epoch 75/100\n",
      "75/75 - 0s - loss: 5.6128e-04 - accuracy: 1.0000\n",
      "Epoch 76/100\n",
      "75/75 - 0s - loss: 5.4741e-04 - accuracy: 1.0000\n",
      "Epoch 77/100\n",
      "75/75 - 0s - loss: 5.0016e-04 - accuracy: 1.0000\n",
      "Epoch 78/100\n",
      "75/75 - 0s - loss: 4.9875e-04 - accuracy: 1.0000\n",
      "Epoch 79/100\n",
      "75/75 - 0s - loss: 5.0098e-04 - accuracy: 1.0000\n",
      "Epoch 80/100\n",
      "75/75 - 0s - loss: 4.7766e-04 - accuracy: 1.0000\n",
      "Epoch 81/100\n",
      "75/75 - 0s - loss: 4.4643e-04 - accuracy: 1.0000\n",
      "Epoch 82/100\n",
      "75/75 - 0s - loss: 3.9683e-04 - accuracy: 1.0000\n",
      "Epoch 83/100\n",
      "75/75 - 0s - loss: 3.8467e-04 - accuracy: 1.0000\n",
      "Epoch 84/100\n",
      "75/75 - 0s - loss: 3.3786e-04 - accuracy: 1.0000\n",
      "Epoch 85/100\n",
      "75/75 - 0s - loss: 3.0710e-04 - accuracy: 1.0000\n",
      "Epoch 86/100\n",
      "75/75 - 0s - loss: 3.0701e-04 - accuracy: 1.0000\n",
      "Epoch 87/100\n",
      "75/75 - 0s - loss: 2.8022e-04 - accuracy: 1.0000\n",
      "Epoch 88/100\n",
      "75/75 - 0s - loss: 2.5939e-04 - accuracy: 1.0000\n",
      "Epoch 89/100\n",
      "75/75 - 0s - loss: 3.0679e-04 - accuracy: 1.0000\n",
      "Epoch 90/100\n",
      "75/75 - 0s - loss: 2.7100e-04 - accuracy: 1.0000\n",
      "Epoch 91/100\n",
      "75/75 - 0s - loss: 0.0136 - accuracy: 0.9966\n",
      "Epoch 92/100\n",
      "75/75 - 0s - loss: 0.0024 - accuracy: 0.9992\n",
      "Epoch 93/100\n",
      "75/75 - 0s - loss: 0.0020 - accuracy: 0.9996\n",
      "Epoch 94/100\n",
      "75/75 - 0s - loss: 0.0322 - accuracy: 0.9945\n",
      "Epoch 95/100\n",
      "75/75 - 0s - loss: 0.0033 - accuracy: 0.9987\n",
      "Epoch 96/100\n",
      "75/75 - 0s - loss: 0.0010 - accuracy: 1.0000\n",
      "Epoch 97/100\n",
      "75/75 - 0s - loss: 5.7758e-04 - accuracy: 1.0000\n",
      "Epoch 98/100\n",
      "75/75 - 0s - loss: 4.7573e-04 - accuracy: 1.0000\n",
      "Epoch 99/100\n",
      "75/75 - 0s - loss: 4.4531e-04 - accuracy: 1.0000\n",
      "Epoch 100/100\n",
      "75/75 - 0s - loss: 4.2612e-04 - accuracy: 1.0000\n"
     ]
    },
    {
     "data": {
      "text/plain": [
       "<tensorflow.python.keras.callbacks.History at 0x1948d44ca90>"
      ]
     },
     "execution_count": 31,
     "metadata": {},
     "output_type": "execute_result"
    }
   ],
   "source": [
    "# Step 10: Fit (train) the preprocessed data to the model\n",
    "\n",
    "model.fit(\n",
    "    X_train_scaled,\n",
    "    y_train_categorical, \n",
    "    epochs=100,\n",
    "    shuffle=True,\n",
    "    verbose=2\n",
    ")"
   ]
  },
  {
   "cell_type": "code",
   "execution_count": 32,
   "metadata": {},
   "outputs": [
    {
     "name": "stdout",
     "output_type": "stream",
     "text": [
      "Model: \"sequential_1\"\n",
      "_________________________________________________________________\n",
      "Layer (type)                 Output Shape              Param #   \n",
      "=================================================================\n",
      "dense_3 (Dense)              (None, 100)               2100      \n",
      "_________________________________________________________________\n",
      "dense_4 (Dense)              (None, 100)               10100     \n",
      "_________________________________________________________________\n",
      "dense_5 (Dense)              (None, 2)                 202       \n",
      "=================================================================\n",
      "Total params: 12,402\n",
      "Trainable params: 12,402\n",
      "Non-trainable params: 0\n",
      "_________________________________________________________________\n"
     ]
    }
   ],
   "source": [
    "model.summary()"
   ]
  },
  {
   "cell_type": "markdown",
   "metadata": {},
   "source": [
    "# Quantify the Model"
   ]
  },
  {
   "cell_type": "code",
   "execution_count": 33,
   "metadata": {},
   "outputs": [
    {
     "name": "stdout",
     "output_type": "stream",
     "text": [
      "25/25 - 0s - loss: 0.0648 - accuracy: 0.9861\n"
     ]
    }
   ],
   "source": [
    "# Step 11: Quantify the model using preprocessed test data\n",
    "model_loss, model_accuracy = model.evaluate(\n",
    "    X_test_scaled, y_test_categorical, verbose=2\n",
    ")"
   ]
  },
  {
   "cell_type": "markdown",
   "metadata": {},
   "source": [
    "# Save the Model (make sure it is trained)"
   ]
  },
  {
   "cell_type": "code",
   "execution_count": 34,
   "metadata": {},
   "outputs": [],
   "source": [
    "# Step 11a: Saving the model\n",
    "model.save(\"models/voice_model_trained_28.h5\")"
   ]
  },
  {
   "cell_type": "markdown",
   "metadata": {},
   "source": [
    "# Load the model"
   ]
  },
  {
   "cell_type": "code",
   "execution_count": 35,
   "metadata": {},
   "outputs": [],
   "source": [
    "# Step 11b: Loading the model\n",
    "from keras.models import load_model\n",
    "voice_model = load_model(\"models/voice_model_trained_28.h5\")"
   ]
  },
  {
   "cell_type": "code",
   "execution_count": 36,
   "metadata": {},
   "outputs": [
    {
     "name": "stdout",
     "output_type": "stream",
     "text": [
      "25/25 - 0s - loss: 0.0648 - accuracy: 0.9861\n"
     ]
    }
   ],
   "source": [
    "# Step 11c: evaluating the loaded model\n",
    "model_loss, model_accuracy = voice_model.evaluate(\n",
    "    X_test_scaled, y_test_categorical, verbose=2\n",
    ")"
   ]
  },
  {
   "cell_type": "markdown",
   "metadata": {},
   "source": [
    "# Make Predictions"
   ]
  },
  {
   "cell_type": "code",
   "execution_count": 37,
   "metadata": {},
   "outputs": [
    {
     "name": "stderr",
     "output_type": "stream",
     "text": [
      "C:\\Users\\gianm\\AppData\\Roaming\\Python\\Python38\\site-packages\\tensorflow\\python\\keras\\engine\\sequential.py:450: UserWarning: `model.predict_classes()` is deprecated and will be removed after 2021-01-01. Please use instead:* `np.argmax(model.predict(x), axis=-1)`,   if your model does multi-class classification   (e.g. if it uses a `softmax` last-layer activation).* `(model.predict(x) > 0.5).astype(\"int32\")`,   if your model does binary classification   (e.g. if it uses a `sigmoid` last-layer activation).\n",
      "  warnings.warn('`model.predict_classes()` is deprecated and '\n"
     ]
    }
   ],
   "source": [
    "# Step 12: take the top 5 values in the test scaled data to make predictions\n",
    "\n",
    "encoded_predictions = voice_model.predict_classes(X_test_scaled[:5])\n",
    "prediction_labels = label_encoder.inverse_transform(encoded_predictions)"
   ]
  },
  {
   "cell_type": "code",
   "execution_count": 38,
   "metadata": {},
   "outputs": [
    {
     "name": "stdout",
     "output_type": "stream",
     "text": [
      "Predicted Classes: ['female' 'female' 'male' 'female' 'male']\n",
      "Actual Labels: ['female', 'female', 'male', 'female', 'male']\n"
     ]
    }
   ],
   "source": [
    "print(f\"Predicted Classes: {prediction_labels}\")\n",
    "print(f\"Actual Labels: {list(y_test[:5])}\")"
   ]
  },
  {
   "cell_type": "code",
   "execution_count": null,
   "metadata": {},
   "outputs": [],
   "source": []
  }
 ],
 "metadata": {
  "kernelspec": {
   "display_name": "Python 3",
   "language": "python",
   "name": "python3"
  },
  "language_info": {
   "codemirror_mode": {
    "name": "ipython",
    "version": 3
   },
   "file_extension": ".py",
   "mimetype": "text/x-python",
   "name": "python",
   "nbconvert_exporter": "python",
   "pygments_lexer": "ipython3",
   "version": "3.8.9"
  }
 },
 "nbformat": 4,
 "nbformat_minor": 4
}
