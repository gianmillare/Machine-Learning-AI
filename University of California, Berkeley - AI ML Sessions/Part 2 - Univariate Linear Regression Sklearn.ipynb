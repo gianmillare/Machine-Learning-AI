{
 "cells": [
  {
   "cell_type": "markdown",
   "metadata": {},
   "source": [
    "### Linear Regression and Sklearn"
   ]
  },
  {
   "cell_type": "code",
   "execution_count": 1,
   "metadata": {},
   "outputs": [],
   "source": [
    "# Dependencies\n",
    "\n",
    "%matplotlib inline\n",
    "import matplotlib.pyplot as plt\n",
    "import numpy as np\n",
    "import pandas as pd"
   ]
  },
  {
   "cell_type": "code",
   "execution_count": 10,
   "metadata": {},
   "outputs": [],
   "source": [
    "# Sklearn Dependency\n",
    "from sklearn.datasets import make_regression\n",
    "\n",
    "X,y = make_regression(n_samples=20, n_features=1, random_state=0, noise=3, bias=100.0)"
   ]
  },
  {
   "cell_type": "code",
   "execution_count": 11,
   "metadata": {},
   "outputs": [
    {
     "name": "stdout",
     "output_type": "stream",
     "text": [
      "(20, 1)\n",
      "<class 'numpy.ndarray'>\n",
      "[[-0.15135721]\n",
      " [ 0.40015721]\n",
      " [ 0.97873798]\n",
      " [-0.85409574]\n",
      " [-0.97727788]\n",
      " [ 0.3130677 ]\n",
      " [-0.10321885]\n",
      " [-0.20515826]\n",
      " [ 0.33367433]\n",
      " [ 1.49407907]\n",
      " [ 0.95008842]\n",
      " [ 0.12167502]\n",
      " [ 1.45427351]\n",
      " [ 1.86755799]\n",
      " [ 0.14404357]\n",
      " [ 0.4105985 ]\n",
      " [ 0.76103773]\n",
      " [ 2.2408932 ]\n",
      " [ 0.44386323]\n",
      " [ 1.76405235]]\n"
     ]
    }
   ],
   "source": [
    "# Two dimensional array. This is vertical line. Having 20 rows and 1 column\n",
    "\n",
    "print(X.shape)\n",
    "print(type(X))\n",
    "print(X)"
   ]
  },
  {
   "cell_type": "code",
   "execution_count": 12,
   "metadata": {},
   "outputs": [
    {
     "name": "stdout",
     "output_type": "stream",
     "text": [
      "(20,)\n",
      "<class 'numpy.ndarray'>\n",
      "[ 97.97233911 107.77808686 109.34004068  89.67546479  90.53357417\n",
      " 101.23052663 102.90854517  95.67147223 103.07477938 121.94427428\n",
      " 112.62065759 105.93066817 121.29528408 126.04560919 103.76423206\n",
      " 110.49115189 107.67489197 130.42384782 111.72537749 125.38858708]\n"
     ]
    }
   ],
   "source": [
    "# One dimensional numpy array\n",
    "\n",
    "print(y.shape)\n",
    "print(type(y))\n",
    "print(y)"
   ]
  },
  {
   "cell_type": "code",
   "execution_count": 13,
   "metadata": {},
   "outputs": [
    {
     "data": {
      "text/plain": [
       "<matplotlib.collections.PathCollection at 0x7fde7e9524f0>"
      ]
     },
     "execution_count": 13,
     "metadata": {},
     "output_type": "execute_result"
    },
    {
     "data": {
      "image/png": "[encoded data removed]",
      "text/plain": [
       "<Figure size 432x288 with 1 Axes>"
      ]
     },
     "metadata": {
      "needs_background": "light"
     },
     "output_type": "display_data"
    }
   ],
   "source": [
    "plt.scatter(X,y)"
   ]
  },
  {
   "cell_type": "markdown",
   "metadata": {},
   "source": [
    "### The standard linear regression looks like this:\n",
    "\n",
    "<img src=\"images/linear regression formula.png\">"
   ]
  },
  {
   "cell_type": "markdown",
   "metadata": {},
   "source": []
  }
 ],
 "metadata": {
  "kernelspec": {
   "display_name": "Python 3",
   "language": "python",
   "name": "python3"
  },
  "language_info": {
   "codemirror_mode": {
    "name": "ipython",
    "version": 3
   },
   "file_extension": ".py",
   "mimetype": "text/x-python",
   "name": "python",
   "nbconvert_exporter": "python",
   "pygments_lexer": "ipython3",
   "version": "3.8.5"
  }
 },
 "nbformat": 4,
 "nbformat_minor": 4
}
