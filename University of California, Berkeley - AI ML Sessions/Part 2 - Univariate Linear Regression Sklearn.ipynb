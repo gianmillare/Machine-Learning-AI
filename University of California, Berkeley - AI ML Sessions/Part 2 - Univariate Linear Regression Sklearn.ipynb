{
 "cells": [
  {
   "cell_type": "markdown",
   "metadata": {},
   "source": [
    "### Linear Regression and Sklearn"
   ]
  },
  {
   "cell_type": "code",
   "execution_count": 50,
   "metadata": {},
   "outputs": [],
   "source": [
    "# Dependencies\n",
    "\n",
    "%matplotlib inline\n",
    "import matplotlib.pyplot as plt\n",
    "import numpy as np\n",
    "import pandas as pd"
   ]
  },
  {
   "cell_type": "code",
   "execution_count": 51,
   "metadata": {},
   "outputs": [],
   "source": [
    "# Sklearn Dependency\n",
    "from sklearn.datasets import make_regression"
   ]
  },
  {
   "cell_type": "markdown",
   "metadata": {},
   "source": [
    "### Linear Regression Intro"
   ]
  },
  {
   "cell_type": "code",
   "execution_count": 52,
   "metadata": {},
   "outputs": [],
   "source": [
    "X,y = make_regression(n_samples=20, n_features=1, random_state=0, noise=3, bias=100.0)"
   ]
  },
  {
   "cell_type": "code",
   "execution_count": 53,
   "metadata": {},
   "outputs": [
    {
     "name": "stdout",
     "output_type": "stream",
     "text": [
      "(20, 1)\n",
      "<class 'numpy.ndarray'>\n",
      "[[-0.15135721]\n",
      " [ 0.40015721]\n",
      " [ 0.97873798]\n",
      " [-0.85409574]\n",
      " [-0.97727788]\n",
      " [ 0.3130677 ]\n",
      " [-0.10321885]\n",
      " [-0.20515826]\n",
      " [ 0.33367433]\n",
      " [ 1.49407907]\n",
      " [ 0.95008842]\n",
      " [ 0.12167502]\n",
      " [ 1.45427351]\n",
      " [ 1.86755799]\n",
      " [ 0.14404357]\n",
      " [ 0.4105985 ]\n",
      " [ 0.76103773]\n",
      " [ 2.2408932 ]\n",
      " [ 0.44386323]\n",
      " [ 1.76405235]]\n"
     ]
    }
   ],
   "source": [
    "# Two dimensional array. This is vertical line. Having 20 rows and 1 column\n",
    "\n",
    "print(X.shape)\n",
    "print(type(X))\n",
    "print(X)"
   ]
  },
  {
   "cell_type": "code",
   "execution_count": 54,
   "metadata": {},
   "outputs": [
    {
     "name": "stdout",
     "output_type": "stream",
     "text": [
      "(20,)\n",
      "<class 'numpy.ndarray'>\n",
      "[ 97.97233911 107.77808686 109.34004068  89.67546479  90.53357417\n",
      " 101.23052663 102.90854517  95.67147223 103.07477938 121.94427428\n",
      " 112.62065759 105.93066817 121.29528408 126.04560919 103.76423206\n",
      " 110.49115189 107.67489197 130.42384782 111.72537749 125.38858708]\n"
     ]
    }
   ],
   "source": [
    "# One dimensional numpy array\n",
    "\n",
    "print(y.shape)\n",
    "print(type(y))\n",
    "print(y)"
   ]
  },
  {
   "cell_type": "code",
   "execution_count": 55,
   "metadata": {},
   "outputs": [
    {
     "data": {
      "text/plain": [
       "<matplotlib.collections.PathCollection at 0x7fde809310d0>"
      ]
     },
     "execution_count": 55,
     "metadata": {},
     "output_type": "execute_result"
    },
    {
     "data": {
      "image/png": "[encoded data removed]",
      "text/plain": [
       "<Figure size 432x288 with 1 Axes>"
      ]
     },
     "metadata": {
      "needs_background": "light"
     },
     "output_type": "display_data"
    }
   ],
   "source": [
    "plt.scatter(X,y)"
   ]
  },
  {
   "cell_type": "markdown",
   "metadata": {},
   "source": [
    "### The standard linear regression looks like this:\n",
    "\n",
    "<img src=\"images/linear regression formula.png\">"
   ]
  },
  {
   "cell_type": "markdown",
   "metadata": {},
   "source": [
    "### Not all Regression is Linear"
   ]
  },
  {
   "cell_type": "code",
   "execution_count": 56,
   "metadata": {},
   "outputs": [
    {
     "name": "stdout",
     "output_type": "stream",
     "text": [
      "(100, 3)\n",
      "(100,)\n"
     ]
    },
    {
     "data": {
      "text/plain": [
       "<matplotlib.collections.PathCollection at 0x7fde80a5b0d0>"
      ]
     },
     "execution_count": 56,
     "metadata": {},
     "output_type": "execute_result"
    },
    {
     "data": {
      "image/png": "[encoded data removed]",
      "text/plain": [
       "<Figure size 432x288 with 1 Axes>"
      ]
     },
     "metadata": {
      "needs_background": "light"
     },
     "output_type": "display_data"
    }
   ],
   "source": [
    "from sklearn.datasets import make_s_curve\n",
    "\n",
    "data, color = make_s_curve(100, random_state=100)\n",
    "print(data.shape)\n",
    "print(color.shape)\n",
    "plt.scatter(data[:,0], color)"
   ]
  },
  {
   "cell_type": "markdown",
   "metadata": {},
   "source": [
    "### A regression line is simply calculating a line that best first the data.\n",
    "\n",
    "This is typically done through the least squares method where the line is chosen to have the smallest overall distance to the points. "
   ]
  },
  {
   "cell_type": "markdown",
   "metadata": {},
   "source": [
    "<img src=\"images/linear regression definition.png\">"
   ]
  },
  {
   "cell_type": "markdown",
   "metadata": {},
   "source": [
    "#### Sklearn libraries provides us with a Linear Regression model that will fit a line to our data. Sklearn allows you to define a model object, fit the model to the data, and then make predictions with the model."
   ]
  },
  {
   "cell_type": "code",
   "execution_count": 57,
   "metadata": {},
   "outputs": [
    {
     "data": {
      "text/plain": [
       "LinearRegression()"
      ]
     },
     "execution_count": 57,
     "metadata": {},
     "output_type": "execute_result"
    }
   ],
   "source": [
    "from sklearn.linear_model import LinearRegression\n",
    "\n",
    "# Create the model\n",
    "model = LinearRegression()\n",
    "model"
   ]
  },
  {
   "cell_type": "code",
   "execution_count": 58,
   "metadata": {},
   "outputs": [
    {
     "name": "stdout",
     "output_type": "stream",
     "text": [
      "LinearRegression()\n"
     ]
    }
   ],
   "source": [
    "# Fit the model\n",
    "\n",
    "model.fit(X, y) # X and y is used from the Linear Regression intro\n",
    "print(model)"
   ]
  },
  {
   "cell_type": "code",
   "execution_count": 59,
   "metadata": {},
   "outputs": [
    {
     "name": "stdout",
     "output_type": "stream",
     "text": [
      "Weight's coefficients:  [12.91385036]\n",
      "y_axis intercept:  101.42216879244445\n"
     ]
    }
   ],
   "source": [
    "# ask questions about the model: intercept and coefficient\n",
    "print(\"Weight's coefficients: \", model.coef_)\n",
    "print(\"y_axis intercept: \", model.intercept_)"
   ]
  },
  {
   "cell_type": "markdown",
   "metadata": {},
   "source": [
    "### So now we can update the linear regression formula\n",
    "\n",
    "y = 101.42216879244445 + 12.91385036x"
   ]
  },
  {
   "cell_type": "markdown",
   "metadata": {},
   "source": [
    "## Now we can make predictions using the above formula"
   ]
  },
  {
   "cell_type": "code",
   "execution_count": 60,
   "metadata": {},
   "outputs": [
    {
     "name": "stdout",
     "output_type": "stream",
     "text": [
      "True output: 97.97233911361782\n",
      "Predicted Output: 99.46756445295911\n",
      "Prediction Error: 1.4952253393412889\n"
     ]
    }
   ],
   "source": [
    "predictions = model.predict(X)\n",
    "print(f\"True output: {y[0]}\")\n",
    "print(f\"Predicted Output: {predictions[0]}\")\n",
    "print(f\"Prediction Error: {predictions[0]-y[0]}\")"
   ]
  },
  {
   "cell_type": "code",
   "execution_count": 61,
   "metadata": {},
   "outputs": [
    {
     "data": {
      "text/html": [
       "<div>\n",
       "<style scoped>\n",
       "    .dataframe tbody tr th:only-of-type {\n",
       "        vertical-align: middle;\n",
       "    }\n",
       "\n",
       "    .dataframe tbody tr th {\n",
       "        vertical-align: top;\n",
       "    }\n",
       "\n",
       "    .dataframe thead th {\n",
       "        text-align: right;\n",
       "    }\n",
       "</style>\n",
       "<table border=\"1\" class=\"dataframe\">\n",
       "  <thead>\n",
       "    <tr style=\"text-align: right;\">\n",
       "      <th></th>\n",
       "      <th>Predicted</th>\n",
       "      <th>Actual</th>\n",
       "      <th>Error</th>\n",
       "    </tr>\n",
       "  </thead>\n",
       "  <tbody>\n",
       "    <tr>\n",
       "      <th>0</th>\n",
       "      <td>99.467564</td>\n",
       "      <td>97.972339</td>\n",
       "      <td>1.495225</td>\n",
       "    </tr>\n",
       "    <tr>\n",
       "      <th>1</th>\n",
       "      <td>106.589739</td>\n",
       "      <td>107.778087</td>\n",
       "      <td>-1.188348</td>\n",
       "    </tr>\n",
       "    <tr>\n",
       "      <th>2</th>\n",
       "      <td>114.061445</td>\n",
       "      <td>109.340041</td>\n",
       "      <td>4.721404</td>\n",
       "    </tr>\n",
       "    <tr>\n",
       "      <th>3</th>\n",
       "      <td>90.392504</td>\n",
       "      <td>89.675465</td>\n",
       "      <td>0.717039</td>\n",
       "    </tr>\n",
       "    <tr>\n",
       "      <th>4</th>\n",
       "      <td>88.801748</td>\n",
       "      <td>90.533574</td>\n",
       "      <td>-1.731826</td>\n",
       "    </tr>\n",
       "    <tr>\n",
       "      <th>5</th>\n",
       "      <td>105.465078</td>\n",
       "      <td>101.230527</td>\n",
       "      <td>4.234552</td>\n",
       "    </tr>\n",
       "    <tr>\n",
       "      <th>6</th>\n",
       "      <td>100.089216</td>\n",
       "      <td>102.908545</td>\n",
       "      <td>-2.819329</td>\n",
       "    </tr>\n",
       "    <tr>\n",
       "      <th>7</th>\n",
       "      <td>98.772786</td>\n",
       "      <td>95.671472</td>\n",
       "      <td>3.101313</td>\n",
       "    </tr>\n",
       "    <tr>\n",
       "      <th>8</th>\n",
       "      <td>105.731189</td>\n",
       "      <td>103.074779</td>\n",
       "      <td>2.656410</td>\n",
       "    </tr>\n",
       "    <tr>\n",
       "      <th>9</th>\n",
       "      <td>120.716482</td>\n",
       "      <td>121.944274</td>\n",
       "      <td>-1.227792</td>\n",
       "    </tr>\n",
       "    <tr>\n",
       "      <th>10</th>\n",
       "      <td>113.691468</td>\n",
       "      <td>112.620658</td>\n",
       "      <td>1.070811</td>\n",
       "    </tr>\n",
       "    <tr>\n",
       "      <th>11</th>\n",
       "      <td>102.993462</td>\n",
       "      <td>105.930668</td>\n",
       "      <td>-2.937206</td>\n",
       "    </tr>\n",
       "    <tr>\n",
       "      <th>12</th>\n",
       "      <td>120.202439</td>\n",
       "      <td>121.295284</td>\n",
       "      <td>-1.092845</td>\n",
       "    </tr>\n",
       "    <tr>\n",
       "      <th>13</th>\n",
       "      <td>125.539533</td>\n",
       "      <td>126.045609</td>\n",
       "      <td>-0.506076</td>\n",
       "    </tr>\n",
       "    <tr>\n",
       "      <th>14</th>\n",
       "      <td>103.282326</td>\n",
       "      <td>103.764232</td>\n",
       "      <td>-0.481906</td>\n",
       "    </tr>\n",
       "    <tr>\n",
       "      <th>15</th>\n",
       "      <td>106.724576</td>\n",
       "      <td>110.491152</td>\n",
       "      <td>-3.766575</td>\n",
       "    </tr>\n",
       "    <tr>\n",
       "      <th>16</th>\n",
       "      <td>111.250096</td>\n",
       "      <td>107.674892</td>\n",
       "      <td>3.575204</td>\n",
       "    </tr>\n",
       "    <tr>\n",
       "      <th>17</th>\n",
       "      <td>130.360728</td>\n",
       "      <td>130.423848</td>\n",
       "      <td>-0.063120</td>\n",
       "    </tr>\n",
       "    <tr>\n",
       "      <th>18</th>\n",
       "      <td>107.154152</td>\n",
       "      <td>111.725377</td>\n",
       "      <td>-4.571225</td>\n",
       "    </tr>\n",
       "    <tr>\n",
       "      <th>19</th>\n",
       "      <td>124.202877</td>\n",
       "      <td>125.388587</td>\n",
       "      <td>-1.185710</td>\n",
       "    </tr>\n",
       "  </tbody>\n",
       "</table>\n",
       "</div>"
      ],
      "text/plain": [
       "     Predicted      Actual     Error\n",
       "0    99.467564   97.972339  1.495225\n",
       "1   106.589739  107.778087 -1.188348\n",
       "2   114.061445  109.340041  4.721404\n",
       "3    90.392504   89.675465  0.717039\n",
       "4    88.801748   90.533574 -1.731826\n",
       "5   105.465078  101.230527  4.234552\n",
       "6   100.089216  102.908545 -2.819329\n",
       "7    98.772786   95.671472  3.101313\n",
       "8   105.731189  103.074779  2.656410\n",
       "9   120.716482  121.944274 -1.227792\n",
       "10  113.691468  112.620658  1.070811\n",
       "11  102.993462  105.930668 -2.937206\n",
       "12  120.202439  121.295284 -1.092845\n",
       "13  125.539533  126.045609 -0.506076\n",
       "14  103.282326  103.764232 -0.481906\n",
       "15  106.724576  110.491152 -3.766575\n",
       "16  111.250096  107.674892  3.575204\n",
       "17  130.360728  130.423848 -0.063120\n",
       "18  107.154152  111.725377 -4.571225\n",
       "19  124.202877  125.388587 -1.185710"
      ]
     },
     "execution_count": 61,
     "metadata": {},
     "output_type": "execute_result"
    }
   ],
   "source": [
    "pd.DataFrame({\"Predicted\": predictions, \"Actual\": y, \"Error\": predictions - y})[[\"Predicted\", \"Actual\", \"Error\"]]"
   ]
  },
  {
   "cell_type": "markdown",
   "metadata": {},
   "source": [
    "### In other words, by Predicted - Actual = Error, we can see how 'strong' the margin of error is for the model. "
   ]
  },
  {
   "cell_type": "markdown",
   "metadata": {},
   "source": [
    "## Let's take it a step further and find the min and max values"
   ]
  },
  {
   "cell_type": "code",
   "execution_count": 62,
   "metadata": {},
   "outputs": [],
   "source": [
    "# First obtain the mins and maxes of the actual y and x\n",
    "\n",
    "x_min = X.min()\n",
    "x_max = X.max()\n",
    "\n",
    "y_min_actual = y.min()\n",
    "y_max_actual = y.max()"
   ]
  },
  {
   "cell_type": "markdown",
   "metadata": {},
   "source": [
    "### Remember this formula? plug in the x mins and maxes\n"
   ]
  },
  {
   "cell_type": "markdown",
   "metadata": {},
   "source": [
    "y = 101.42216879244445 + 12.91385036x"
   ]
  },
  {
   "cell_type": "code",
   "execution_count": 63,
   "metadata": {},
   "outputs": [],
   "source": [
    "y_min = 101.42216879244445 + 12.91385036 * x_min\n",
    "y_max = 101.42216879244445 + 12.91385036 * x_max"
   ]
  },
  {
   "cell_type": "code",
   "execution_count": 64,
   "metadata": {},
   "outputs": [
    {
     "name": "stdout",
     "output_type": "stream",
     "text": [
      "Actual Min Value: 89.6754647857102\n",
      "Predicted Min Value: 88.80174849158243\n",
      "Actual Max Value: 130.42384782251455\n",
      "Predicted Min Value: 130.36072823967373\n"
     ]
    }
   ],
   "source": [
    "print(\"Actual Min Value: {}\".format(y_min_actual))\n",
    "print(\"Predicted Min Value: {}\".format(y_min))\n",
    "print(\"Actual Max Value: {}\".format(y_max_actual))\n",
    "print(\"Predicted Min Value: {}\".format(y_max))"
   ]
  },
  {
   "cell_type": "code",
   "execution_count": 65,
   "metadata": {},
   "outputs": [],
   "source": [
    "# OPTIONAL: model.predict requires a two dimensional array, however, we are using a one dimensional array (1 column)\n",
    "# Because of this, we must reshape the array\n",
    "y_min_predicted = model.predict(x_min.reshape(-1, 1))\n",
    "y_max_predicted = model.predict(x_max.reshape(-1, 1))"
   ]
  },
  {
   "cell_type": "code",
   "execution_count": 66,
   "metadata": {},
   "outputs": [
    {
     "name": "stdout",
     "output_type": "stream",
     "text": [
      "Actual Min Value: 89.6754647857102\n",
      "Predicted Min Value: [88.80174849]\n",
      "Actual Max Value: 130.42384782251455\n",
      "Predicted Min Value: [130.36072825]\n"
     ]
    }
   ],
   "source": [
    "print(\"Actual Min Value: {}\".format(y_min_actual))\n",
    "print(\"Predicted Min Value: {}\".format(y_min_predicted))\n",
    "print(\"Actual Max Value: {}\".format(y_max_actual))\n",
    "print(\"Predicted Min Value: {}\".format(y_max_predicted))"
   ]
  },
  {
   "cell_type": "markdown",
   "metadata": {},
   "source": [
    "### We can show the model fit by plotting the predicted values against the original data"
   ]
  },
  {
   "cell_type": "code",
   "execution_count": 68,
   "metadata": {},
   "outputs": [
    {
     "data": {
      "text/plain": [
       "[<matplotlib.lines.Line2D at 0x7fde80a44a30>]"
      ]
     },
     "execution_count": 68,
     "metadata": {},
     "output_type": "execute_result"
    },
    {
     "data": {
      "image/png": "[encoded data removed]",
      "text/plain": [
       "<Figure size 432x288 with 1 Axes>"
      ]
     },
     "metadata": {
      "needs_background": "light"
     },
     "output_type": "display_data"
    }
   ],
   "source": [
    "plt.scatter(X, y, c='blue')\n",
    "plt.plot([x_min, x_max], [y_min, y_max], c='red')"
   ]
  },
  {
   "cell_type": "markdown",
   "metadata": {},
   "source": [
    "#### Above, we placed the feature (x) mins and maxes against the outputs(y) mins and maxes."
   ]
  },
  {
   "cell_type": "code",
   "execution_count": null,
   "metadata": {},
   "outputs": [],
   "source": []
  }
 ],
 "metadata": {
  "kernelspec": {
   "display_name": "Python 3",
   "language": "python",
   "name": "python3"
  },
  "language_info": {
   "codemirror_mode": {
    "name": "ipython",
    "version": 3
   },
   "file_extension": ".py",
   "mimetype": "text/x-python",
   "name": "python",
   "nbconvert_exporter": "python",
   "pygments_lexer": "ipython3",
   "version": "3.8.5"
  }
 },
 "nbformat": 4,
 "nbformat_minor": 4
}
