{
 "cells": [
  {
   "cell_type": "markdown",
   "metadata": {},
   "source": [
    "### Linear Regression and Sklearn"
   ]
  },
  {
   "cell_type": "code",
   "execution_count": 28,
   "metadata": {},
   "outputs": [],
   "source": [
    "# Dependencies\n",
    "\n",
    "%matplotlib inline\n",
    "import matplotlib.pyplot as plt\n",
    "import numpy as np\n",
    "import pandas as pd"
   ]
  },
  {
   "cell_type": "code",
   "execution_count": 29,
   "metadata": {},
   "outputs": [],
   "source": [
    "# Sklearn Dependency\n",
    "from sklearn.datasets import make_regression"
   ]
  },
  {
   "cell_type": "markdown",
   "metadata": {},
   "source": [
    "### Linear Regression Intro"
   ]
  },
  {
   "cell_type": "code",
   "execution_count": 30,
   "metadata": {},
   "outputs": [],
   "source": [
    "X,y = make_regression(n_samples=20, n_features=1, random_state=0, noise=3, bias=100.0)"
   ]
  },
  {
   "cell_type": "code",
   "execution_count": 31,
   "metadata": {},
   "outputs": [
    {
     "name": "stdout",
     "output_type": "stream",
     "text": [
      "(20, 1)\n",
      "<class 'numpy.ndarray'>\n",
      "[[-0.15135721]\n",
      " [ 0.40015721]\n",
      " [ 0.97873798]\n",
      " [-0.85409574]\n",
      " [-0.97727788]\n",
      " [ 0.3130677 ]\n",
      " [-0.10321885]\n",
      " [-0.20515826]\n",
      " [ 0.33367433]\n",
      " [ 1.49407907]\n",
      " [ 0.95008842]\n",
      " [ 0.12167502]\n",
      " [ 1.45427351]\n",
      " [ 1.86755799]\n",
      " [ 0.14404357]\n",
      " [ 0.4105985 ]\n",
      " [ 0.76103773]\n",
      " [ 2.2408932 ]\n",
      " [ 0.44386323]\n",
      " [ 1.76405235]]\n"
     ]
    }
   ],
   "source": [
    "# Two dimensional array. This is vertical line. Having 20 rows and 1 column\n",
    "\n",
    "print(X.shape)\n",
    "print(type(X))\n",
    "print(X)"
   ]
  },
  {
   "cell_type": "code",
   "execution_count": 32,
   "metadata": {},
   "outputs": [
    {
     "name": "stdout",
     "output_type": "stream",
     "text": [
      "(20,)\n",
      "<class 'numpy.ndarray'>\n",
      "[ 97.97233911 107.77808686 109.34004068  89.67546479  90.53357417\n",
      " 101.23052663 102.90854517  95.67147223 103.07477938 121.94427428\n",
      " 112.62065759 105.93066817 121.29528408 126.04560919 103.76423206\n",
      " 110.49115189 107.67489197 130.42384782 111.72537749 125.38858708]\n"
     ]
    }
   ],
   "source": [
    "# One dimensional numpy array\n",
    "\n",
    "print(y.shape)\n",
    "print(type(y))\n",
    "print(y)"
   ]
  },
  {
   "cell_type": "code",
   "execution_count": 33,
   "metadata": {},
   "outputs": [
    {
     "data": {
      "text/plain": [
       "<matplotlib.collections.PathCollection at 0x7fde7eefa8b0>"
      ]
     },
     "execution_count": 33,
     "metadata": {},
     "output_type": "execute_result"
    },
    {
     "data": {
      "image/png": "[encoded data removed]",
      "text/plain": [
       "<Figure size 432x288 with 1 Axes>"
      ]
     },
     "metadata": {
      "needs_background": "light"
     },
     "output_type": "display_data"
    }
   ],
   "source": [
    "plt.scatter(X,y)"
   ]
  },
  {
   "cell_type": "markdown",
   "metadata": {},
   "source": [
    "### The standard linear regression looks like this:\n",
    "\n",
    "<img src=\"images/linear regression formula.png\">"
   ]
  },
  {
   "cell_type": "markdown",
   "metadata": {},
   "source": [
    "### Not all Regression is Linear"
   ]
  },
  {
   "cell_type": "code",
   "execution_count": 34,
   "metadata": {},
   "outputs": [
    {
     "name": "stdout",
     "output_type": "stream",
     "text": [
      "(100, 3)\n",
      "(100,)\n"
     ]
    },
    {
     "data": {
      "text/plain": [
       "<matplotlib.collections.PathCollection at 0x7fde7ef57d00>"
      ]
     },
     "execution_count": 34,
     "metadata": {},
     "output_type": "execute_result"
    },
    {
     "data": {
      "image/png": "[encoded data removed]",
      "text/plain": [
       "<Figure size 432x288 with 1 Axes>"
      ]
     },
     "metadata": {
      "needs_background": "light"
     },
     "output_type": "display_data"
    }
   ],
   "source": [
    "from sklearn.datasets import make_s_curve\n",
    "\n",
    "data, color = make_s_curve(100, random_state=100)\n",
    "print(data.shape)\n",
    "print(color.shape)\n",
    "plt.scatter(data[:,0], color)"
   ]
  },
  {
   "cell_type": "markdown",
   "metadata": {},
   "source": [
    "### A regression line is simply calculating a line that best first the data.\n",
    "\n",
    "This is typically done through the least squares method where the line is chosen to have the smallest overall distance to the points. "
   ]
  },
  {
   "cell_type": "markdown",
   "metadata": {},
   "source": [
    "<img src=\"images/linear regression definition.png\">"
   ]
  },
  {
   "cell_type": "markdown",
   "metadata": {},
   "source": [
    "#### Sklearn libraries provides us with a Linear Regression model that will fit a line to our data. Sklearn allows you to define a model object, fit the model to the data, and then make predictions with the model."
   ]
  },
  {
   "cell_type": "code",
   "execution_count": 35,
   "metadata": {},
   "outputs": [
    {
     "data": {
      "text/plain": [
       "LinearRegression()"
      ]
     },
     "execution_count": 35,
     "metadata": {},
     "output_type": "execute_result"
    }
   ],
   "source": [
    "from sklearn.linear_model import LinearRegression\n",
    "\n",
    "# Create the model\n",
    "model = LinearRegression()\n",
    "model"
   ]
  },
  {
   "cell_type": "code",
   "execution_count": 38,
   "metadata": {},
   "outputs": [
    {
     "name": "stdout",
     "output_type": "stream",
     "text": [
      "LinearRegression()\n"
     ]
    }
   ],
   "source": [
    "# Fit the model\n",
    "\n",
    "model.fit(X, y) # X and y is used from the Linear Regression intro\n",
    "print(model)"
   ]
  },
  {
   "cell_type": "code",
   "execution_count": 39,
   "metadata": {},
   "outputs": [
    {
     "name": "stdout",
     "output_type": "stream",
     "text": [
      "Weight's coefficients:  [12.91385036]\n",
      "y_axis intercept:  101.42216879244445\n"
     ]
    }
   ],
   "source": [
    "# ask questions about the model: intercept and coefficient\n",
    "print(\"Weight's coefficients: \", model.coef_)\n",
    "print(\"y_axis intercept: \", model.intercept_)"
   ]
  },
  {
   "cell_type": "markdown",
   "metadata": {},
   "source": [
    "### So now we can update the linear regression formula\n",
    "\n",
    "y = 101.42216879244445 + 12.91385036x"
   ]
  },
  {
   "cell_type": "code",
   "execution_count": null,
   "metadata": {},
   "outputs": [],
   "source": []
  }
 ],
 "metadata": {
  "kernelspec": {
   "display_name": "Python 3",
   "language": "python",
   "name": "python3"
  },
  "language_info": {
   "codemirror_mode": {
    "name": "ipython",
    "version": 3
   },
   "file_extension": ".py",
   "mimetype": "text/x-python",
   "name": "python",
   "nbconvert_exporter": "python",
   "pygments_lexer": "ipython3",
   "version": "3.8.5"
  }
 },
 "nbformat": 4,
 "nbformat_minor": 4
}
