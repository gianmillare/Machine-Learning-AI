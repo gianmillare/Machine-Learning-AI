{
 "cells": [
  {
   "cell_type": "code",
   "execution_count": 1,
   "metadata": {},
   "outputs": [],
   "source": [
    "# Dependencies\n",
    "\n",
    "%matplotlib inline\n",
    "import matplotlib.pyplot as plt\n",
    "import numpy as np"
   ]
  },
  {
   "cell_type": "markdown",
   "metadata": {},
   "source": [
    "# Multi-Linear Regression"
   ]
  },
  {
   "cell_type": "markdown",
   "metadata": {},
   "source": [
    "### Multiple Linear Regression just means that you have multiple features (X) to consider\n",
    "\n",
    "For Example:  \n",
    "\n",
    "Y = Bias + X*Feature1 + X*Feature2 + X*Feature3 ...\n",
    "\n",
    "More commonly written as:"
   ]
  },
  {
   "cell_type": "markdown",
   "metadata": {},
   "source": [
    "<img src=\"images/multilinear regression formula.png\">"
   ]
  },
  {
   "cell_type": "code",
   "execution_count": 3,
   "metadata": {},
   "outputs": [
    {
     "name": "stdout",
     "output_type": "stream",
     "text": [
      "(30, 3)\n",
      "(30,)\n",
      "[[ 1.56464366 -2.6197451  -0.03582604]\n",
      " [-1.4123037   1.46564877 -0.90802408]\n",
      " [ 1.47789404 -0.51827022  0.35711257]\n",
      " [-0.3011037  -1.47852199 -0.11564828]\n",
      " [ 0.73846658  0.17136828  0.19686124]\n",
      " [ 0.0675282  -1.42474819 -0.2257763 ]\n",
      " [-0.18565898 -1.10633497 -0.47917424]\n",
      " [-1.95967012 -1.32818605  0.2088636 ]\n",
      " [-0.60063869 -0.29169375  0.37569802]\n",
      " [-0.50175704  0.91540212 -0.8084936 ]\n",
      " [ 0.76743473 -0.46947439  1.57921282]\n",
      " [ 0.81252582  1.35624003 -1.19620662]\n",
      " [ 0.93128012 -0.83921752  1.03099952]\n",
      " [ 0.82254491 -1.22084365 -1.05771093]\n",
      " [ 0.11092259 -1.15099358 -0.54438272]\n",
      " [-0.1382643   0.64768854  0.49671415]\n",
      " [-0.676922    0.61167629 -0.38508228]\n",
      " [-0.46063877  1.05712223 -0.71984421]\n",
      " [-1.98756891 -0.21967189  0.09176078]\n",
      " [ 0.08704707 -0.29900735  0.8219025 ]\n",
      " [-0.23415337 -0.23413696  1.52302986]\n",
      " [ 0.33126343  0.97554513 -0.30921238]\n",
      " [-1.91328024 -1.72491783  0.24196227]\n",
      " [-1.01283112  0.31424733 -0.56228753]\n",
      " [-1.76304016  0.32408397  0.34361829]\n",
      " [ 0.36139561  1.53803657 -0.64511975]\n",
      " [ 1.85227818 -0.01349722 -0.60170661]\n",
      " [-0.5297602   0.51326743  0.32875111]\n",
      " [-0.46341769 -0.46572975  0.54256004]\n",
      " [ 1.0035329   0.36163603 -0.07201012]]\n",
      "[ -30.09970593   59.79676852  169.525505    -46.41541667  170.22545453\n",
      "  -31.37691622  -42.06125512  -94.18658521   77.44118985   74.85845235\n",
      "  244.30949544  146.3464125   173.95260222  -48.70246812  -35.74044762\n",
      "  189.01981997   77.67231907   96.96373549  -17.03234168  153.78189524\n",
      "  204.74192439  168.54054512 -120.2346508    20.41387506   61.74032229\n",
      "  186.10006444  145.33196979  142.21035403   85.64380786  176.56779377]\n"
     ]
    }
   ],
   "source": [
    "# The only difference is that now you have multiple X's (features) to train\n",
    "\n",
    "from sklearn.datasets import make_regression\n",
    "\n",
    "n_features = 3\n",
    "X, y = make_regression(n_samples=30, n_features=n_features, n_informative=n_features, \n",
    "                      random_state=42, noise=0.5, bias=100.0)\n",
    "\n",
    "#NOTE: n_informative is saying that all features (3) have an impact on the output.\n",
    "\n",
    "print(X.shape)\n",
    "print(y.shape)\n",
    "print(X)\n",
    "print(y)"
   ]
  },
  {
   "cell_type": "markdown",
   "metadata": {},
   "source": [
    "#### Plotting a 3 dimensional plot using 3 features is hard for a human to comprehend. Things get more complicated as we code it out, but luckily we can just supply our n_dimensional features and sklearn will fit the model using all of our features."
   ]
  },
  {
   "cell_type": "code",
   "execution_count": 4,
   "metadata": {},
   "outputs": [],
   "source": [
    "# Linear Regression dependencies\n",
    "from sklearn.linear_model import LinearRegression"
   ]
  },
  {
   "cell_type": "code",
   "execution_count": 6,
   "metadata": {},
   "outputs": [
    {
     "data": {
      "text/plain": [
       "LinearRegression()"
      ]
     },
     "execution_count": 6,
     "metadata": {},
     "output_type": "execute_result"
    }
   ],
   "source": [
    "# Step 1: Fit (train) the model for all features (X)\n",
    "model = LinearRegression()\n",
    "model.fit(X, y)"
   ]
  },
  {
   "cell_type": "code",
   "execution_count": 7,
   "metadata": {},
   "outputs": [
    {
     "name": "stdout",
     "output_type": "stream",
     "text": [
      "R Squared Score: 0.9999838079561164\n"
     ]
    }
   ],
   "source": [
    "score = model.score(X, y)\n",
    "print(\"R Squared Score: {}\".format(score))"
   ]
  },
  {
   "cell_type": "markdown",
   "metadata": {},
   "source": [
    "## Residuals\n",
    "\n",
    "Because we cannot easily plot our line in a 3D space, we can use a residual plot to check our predictions.  \n",
    "\n",
    "Residuals are the difference between the true values of y (from dataset) and the predicted values (model.predict)"
   ]
  },
  {
   "cell_type": "code",
   "execution_count": 9,
   "metadata": {},
   "outputs": [],
   "source": [
    "# Step 2: predict the model\n",
    "predictions = model.predict(X)"
   ]
  },
  {
   "cell_type": "code",
   "execution_count": 10,
   "metadata": {},
   "outputs": [
    {
     "data": {
      "image/png": "[encoded data removed]",
      "text/plain": [
       "<Figure size 432x288 with 1 Axes>"
      ]
     },
     "metadata": {
      "needs_background": "light"
     },
     "output_type": "display_data"
    }
   ],
   "source": [
    "# Step 3: Plot the residuals\n",
    "plt.scatter(predictions, predictions - y)\n",
    "plt.hlines(y=0, xmin=predictions.min(), xmax=predictions.max())\n",
    "plt.show()"
   ]
  },
  {
   "cell_type": "markdown",
   "metadata": {},
   "source": [
    "### Goal: We want our predictions to be close to zero on the y_axis as possible"
   ]
  },
  {
   "cell_type": "markdown",
   "metadata": {},
   "source": [
    "#### How to read a Residual plot (above)\n",
    "\n",
    "1) First notice the blue dots. Blue dots = your predicted y (outout)\n",
    "- you can generalize that the points are pretty scattered, but still most are somewhat near the line at y=0.  \n",
    "\n",
    "2) Each blue dot corresponds to a point on the x-axis. The number it corresponds to on the x-axis is the predicted-y's value.  \n",
    "\n",
    "3) Each blue dot also corresponds to a y-axis value. The number it corresponds to on the y_axis is how far the predicted-y was from the true-y.\n",
    "\n",
    "Rule of thumb: when using residual plots to 'read' multi-linear regressions, the closer the dots are to the line at y=0, the more accurate the model."
   ]
  },
  {
   "cell_type": "code",
   "execution_count": null,
   "metadata": {},
   "outputs": [],
   "source": []
  }
 ],
 "metadata": {
  "kernelspec": {
   "display_name": "Python 3",
   "language": "python",
   "name": "python3"
  },
  "language_info": {
   "codemirror_mode": {
    "name": "ipython",
    "version": 3
   },
   "file_extension": ".py",
   "mimetype": "text/x-python",
   "name": "python",
   "nbconvert_exporter": "python",
   "pygments_lexer": "ipython3",
   "version": "3.8.5"
  }
 },
 "nbformat": 4,
 "nbformat_minor": 4
}
