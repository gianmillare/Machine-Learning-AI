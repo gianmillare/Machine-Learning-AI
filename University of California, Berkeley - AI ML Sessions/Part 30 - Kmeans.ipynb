{
 "cells": [
  {
   "cell_type": "markdown",
   "id": "53be04c8",
   "metadata": {},
   "source": [
    "# Introduction to Kmeans"
   ]
  },
  {
   "cell_type": "code",
   "execution_count": 5,
   "id": "a99c8155",
   "metadata": {},
   "outputs": [],
   "source": [
    "# Step 1: Import Dependencies\n",
    "\n",
    "%matplotlib inline\n",
    "import matplotlib.pyplot as plt\n",
    "from sklearn.datasets import make_blobs"
   ]
  },
  {
   "cell_type": "code",
   "execution_count": null,
   "id": "80024b6c",
   "metadata": {},
   "outputs": [],
   "source": []
  }
 ],
 "metadata": {
  "kernelspec": {
   "display_name": "Python 3",
   "language": "python",
   "name": "python3"
  },
  "language_info": {
   "codemirror_mode": {
    "name": "ipython",
    "version": 3
   },
   "file_extension": ".py",
   "mimetype": "text/x-python",
   "name": "python",
   "nbconvert_exporter": "python",
   "pygments_lexer": "ipython3",
   "version": "3.8.9"
  }
 },
 "nbformat": 4,
 "nbformat_minor": 5
}
