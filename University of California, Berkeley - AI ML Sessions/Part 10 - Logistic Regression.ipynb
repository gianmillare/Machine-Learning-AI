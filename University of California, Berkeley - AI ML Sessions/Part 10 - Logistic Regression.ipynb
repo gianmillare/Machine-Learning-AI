{
 "cells": [
  {
   "cell_type": "markdown",
   "metadata": {},
   "source": [
    "# Logisitc Regression\n",
    "\n",
    "Logistic Regression is the probability of being in a particular class. For example, given two groups (class A and class B). What is the probability that a given dataset is in Class A as opposed to Class B?"
   ]
  },
  {
   "cell_type": "markdown",
   "metadata": {},
   "source": [
    "### Logistic Regression vs Linear Regression\n",
    "\n",
    "Logistic Regression applies an activation function to categorize a given dataset into categories based on a probability (between 0 and 1). Linear Regression outputs continuous numerical values to show a correlation."
   ]
  },
  {
   "cell_type": "markdown",
   "metadata": {},
   "source": [
    "<strong>Linear Regression</strong> = y = b0 + b1x  OR y = mx + b\n",
    "\n",
    "Linear Regression --> Outputs continuous values (i.e. age 1, 4, 8, 22, 60, etc.)  \n",
    "\n",
    "<strong>Logistic Model</strong> = p = 1 / 1 + e^-(b0 + b1x)  OR p = 1/1+e^-(mx+b)\n",
    "\n",
    "Logistic regression --> Outputs discrete values (i.e. young vs old, yes vs no, class A vs class B, etc.)"
   ]
  },
  {
   "cell_type": "markdown",
   "metadata": {},
   "source": [
    "<img src=\"images/linreg v logreg.png\">"
   ]
  },
  {
   "cell_type": "markdown",
   "metadata": {},
   "source": [
    "\"If the probability results in greater than 50%, then this dataset belongs in group A. If it is less than 50%, then this dataset belongs in group B.\""
   ]
  },
  {
   "cell_type": "markdown",
   "metadata": {},
   "source": [
    "### Logistic Regression is a statistical method for predicting binary outcomes from data.\n",
    "\n",
    "Example: yes vs no, or young vs old\n",
    "\n",
    "### We can calculate Logistic Regression by adding an \"ACTIVATION FUNCTION\" as a final step in our linear model --> converting the linear regression output into a probability"
   ]
  },
  {
   "cell_type": "code",
   "execution_count": 17,
   "metadata": {},
   "outputs": [],
   "source": [
    "# Step 1: Import the Regression based dependencies\n",
    "\n",
    "%matplotlib inline\n",
    "import matplotlib.pyplot as plt\n",
    "import numpy as np\n",
    "import pandas as pd"
   ]
  },
  {
   "cell_type": "code",
   "execution_count": 18,
   "metadata": {},
   "outputs": [],
   "source": [
    "# Step 2: Get the data. For this example, we will use make_blobs for random data\n",
    "# make_blobs creates clusters of points, mainly used for logistic regression\n",
    "\n",
    "from sklearn.datasets import make_blobs"
   ]
  },
  {
   "cell_type": "code",
   "execution_count": 19,
   "metadata": {},
   "outputs": [
    {
     "name": "stdout",
     "output_type": "stream",
     "text": [
      "Labels: [0 1 0 1 1 0 1 1 0 0]\n",
      "Data: [[-2.98837186  8.82862715]\n",
      " [ 5.72293008  3.02697174]\n",
      " [-3.05358035  9.12520872]\n",
      " [ 5.461939    3.86996267]\n",
      " [ 4.86733877  3.28031244]\n",
      " [-2.14780202 10.55232269]\n",
      " [ 4.91656964  2.80035293]\n",
      " [ 3.08921541  2.04173266]\n",
      " [-2.90130578  7.55077118]\n",
      " [-3.34841515  8.70507375]]\n"
     ]
    }
   ],
   "source": [
    "# Step 3: Assign X and y\n",
    "\n",
    "X, y = make_blobs(centers=2, random_state=42)\n",
    "\n",
    "# Notice how we tell the function how many groups we want via \"centers\"\n",
    "\n",
    "# Here the y is the labels (which is binary)\n",
    "print(\"Labels: {}\".format(y[:10]))\n",
    "\n",
    "# The X is the \"coordinate\" on the graph. make_blobs will always make the X 2d\n",
    "print(\"Data: {}\".format(X[:10]))"
   ]
  },
  {
   "cell_type": "code",
   "execution_count": 20,
   "metadata": {},
   "outputs": [
    {
     "data": {
      "text/plain": [
       "<matplotlib.collections.PathCollection at 0x7fbb0b32ca00>"
      ]
     },
     "execution_count": 20,
     "metadata": {},
     "output_type": "execute_result"
    },
    {
     "data": {
      "image/png": "[encoded data removed]",
      "text/plain": [
       "<Figure size 432x288 with 1 Axes>"
      ]
     },
     "metadata": {
      "needs_background": "light"
     },
     "output_type": "display_data"
    }
   ],
   "source": [
    "# Step 4 (optional): plot the graph\n",
    "\n",
    "col = np.where(y==0, 'blue', 'red')\n",
    "plt.scatter(X[:, 0], X[:, 1], c=col)\n",
    "\n",
    "# How to read: the plot does not have any y axis. Visualize it as a X1 axis and X2 axis\n",
    "# The red and blue dots are the values of y (in this case, it is 0 or 1)\n",
    "# Example: using the first 'coordinates' in the 2d array\n",
    "    # X1 (horizontal axis) = -2.99\n",
    "    # X2 (vertical axis) = 3.03\n",
    "    # y value = blue"
   ]
  },
  {
   "cell_type": "code",
   "execution_count": null,
   "metadata": {},
   "outputs": [],
   "source": []
  }
 ],
 "metadata": {
  "kernelspec": {
   "display_name": "Python 3",
   "language": "python",
   "name": "python3"
  },
  "language_info": {
   "codemirror_mode": {
    "name": "ipython",
    "version": 3
   },
   "file_extension": ".py",
   "mimetype": "text/x-python",
   "name": "python",
   "nbconvert_exporter": "python",
   "pygments_lexer": "ipython3",
   "version": "3.8.5"
  }
 },
 "nbformat": 4,
 "nbformat_minor": 2
}
