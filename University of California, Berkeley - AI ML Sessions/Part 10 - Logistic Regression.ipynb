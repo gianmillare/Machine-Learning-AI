{
 "cells": [
  {
   "cell_type": "markdown",
   "metadata": {},
   "source": [
    "# Logisitc Regression\n",
    "\n",
    "Logistic Regression is the probability of being in a particular class. For example, given two groups (class A and class B). What is the probability that a given dataset is in Class A as opposed to Class B?"
   ]
  },
  {
   "cell_type": "markdown",
   "metadata": {},
   "source": [
    "### Logistic Regression vs Linear Regression\n",
    "\n",
    "Logistic Regression applies an activation function to categorize a given dataset into categories based on a probability (between 0 and 1). Linear Regression outputs continuous numerical values to show a correlation."
   ]
  },
  {
   "cell_type": "markdown",
   "metadata": {},
   "source": [
    "<strong>Linear Regression</strong> = y = b0 + b1x  OR y = mx + b\n",
    "\n",
    "Linear Regression --> Outputs continuous values (i.e. age 1, 4, 8, 22, 60, etc.)  \n",
    "\n",
    "<strong>Logistic Model</strong> = p = 1 / 1 + e^-(b0 + b1x)  OR p = 1/1+e^-(mx+b)\n",
    "\n",
    "Logistic regression --> Outputs discrete values (i.e. young vs old, yes vs no, class A vs class B, etc.)"
   ]
  },
  {
   "cell_type": "markdown",
   "metadata": {},
   "source": [
    "<img src=\"images/linreg v logreg.png\">"
   ]
  },
  {
   "cell_type": "markdown",
   "metadata": {},
   "source": [
    "\"If the probability results in greater than 50%, then this dataset belongs in group A. If it is less than 50%, then this dataset belongs in group B.\""
   ]
  },
  {
   "cell_type": "markdown",
   "metadata": {},
   "source": [
    "### Logistic Regression is a statistical method for predicting binary outcomes from data.\n",
    "\n",
    "Example: yes vs no, or young vs old\n",
    "\n",
    "### We can calculate Logistic Regression by adding an \"ACTIVATION FUNCTION\" as a final step in our linear model --> converting the linear regression output into a probability"
   ]
  },
  {
   "cell_type": "code",
   "execution_count": 2,
   "metadata": {},
   "outputs": [],
   "source": [
    "# Step 1: Import the Regression based dependencies\n",
    "\n"
   ]
  }
 ],
 "metadata": {
  "kernelspec": {
   "display_name": "Python 3",
   "language": "python",
   "name": "python3"
  },
  "language_info": {
   "codemirror_mode": {
    "name": "ipython",
    "version": 3
   },
   "file_extension": ".py",
   "mimetype": "text/x-python",
   "name": "python",
   "nbconvert_exporter": "python",
   "pygments_lexer": "ipython3",
   "version": "3.8.5"
  }
 },
 "nbformat": 4,
 "nbformat_minor": 2
}
