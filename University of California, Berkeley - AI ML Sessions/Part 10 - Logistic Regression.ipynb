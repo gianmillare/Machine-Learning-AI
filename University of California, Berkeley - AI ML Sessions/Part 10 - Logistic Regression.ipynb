{
 "cells": [
  {
   "cell_type": "markdown",
   "metadata": {},
   "source": [
    "# Logisitc Regression\n",
    "\n",
    "Logistic Regression is the probability of being in a particular class. For example, given two groups (class A and class B). What is the probability that a given dataset is in Class A as opposed to Class B?"
   ]
  },
  {
   "cell_type": "markdown",
   "metadata": {},
   "source": [
    "### Logistic Regression vs Linear Regression\n",
    "\n",
    "Logistic Regression applies an activation function to categorize a given dataset into categories based on a probability (between 0 and 1). Linear Regression outputs continuous numerical values to show a correlation."
   ]
  },
  {
   "cell_type": "markdown",
   "metadata": {},
   "source": [
    "<strong>Linear Regression</strong> = y = b0 + b1x  OR y = mx + b\n",
    "\n",
    "Linear Regression --> Outputs continuous values (i.e. age 1, 4, 8, 22, 60, etc.)  \n",
    "\n",
    "<strong>Logistic Model</strong> = p = 1 / 1 + e^-(b0 + b1x)  OR p = 1/1+e^-(mx+b)\n",
    "\n",
    "Logistic regression --> Outputs discrete values (i.e. young vs old, yes vs no, class A vs class B, etc.)"
   ]
  },
  {
   "cell_type": "markdown",
   "metadata": {},
   "source": [
    "<img src=\"images/linreg v logreg.png\">"
   ]
  },
  {
   "cell_type": "markdown",
   "metadata": {},
   "source": [
    "\"If the probability results in greater than 50%, then this dataset belongs in group A. If it is less than 50%, then this dataset belongs in group B.\""
   ]
  },
  {
   "cell_type": "markdown",
   "metadata": {},
   "source": [
    "### Logistic Regression is a statistical method for predicting binary outcomes from data.\n",
    "\n",
    "Example: yes vs no, or young vs old\n",
    "\n",
    "### We can calculate Logistic Regression by adding an \"ACTIVATION FUNCTION\" as a final step in our linear model --> converting the linear regression output into a probability"
   ]
  },
  {
   "cell_type": "code",
   "execution_count": 57,
   "metadata": {},
   "outputs": [],
   "source": [
    "# Step 1: Import the Regression based dependencies\n",
    "\n",
    "%matplotlib inline\n",
    "import matplotlib.pyplot as plt\n",
    "import numpy as np\n",
    "import pandas as pd"
   ]
  },
  {
   "cell_type": "code",
   "execution_count": 58,
   "metadata": {},
   "outputs": [],
   "source": [
    "# Step 2: Get the data. For this example, we will use make_blobs for random data\n",
    "# make_blobs creates clusters of points, mainly used for logistic regression\n",
    "\n",
    "from sklearn.datasets import make_blobs"
   ]
  },
  {
   "cell_type": "code",
   "execution_count": 59,
   "metadata": {},
   "outputs": [
    {
     "name": "stdout",
     "output_type": "stream",
     "text": [
      "Labels: [0 1 0 1 1 0 1 1 0 0]\n",
      "Data: [[-2.98837186  8.82862715]\n",
      " [ 5.72293008  3.02697174]\n",
      " [-3.05358035  9.12520872]\n",
      " [ 5.461939    3.86996267]\n",
      " [ 4.86733877  3.28031244]\n",
      " [-2.14780202 10.55232269]\n",
      " [ 4.91656964  2.80035293]\n",
      " [ 3.08921541  2.04173266]\n",
      " [-2.90130578  7.55077118]\n",
      " [-3.34841515  8.70507375]]\n"
     ]
    }
   ],
   "source": [
    "# Step 3: Assign X and y\n",
    "\n",
    "X, y = make_blobs(centers=2, random_state=42)\n",
    "\n",
    "# Notice how we tell the function how many groups we want via \"centers\"\n",
    "\n",
    "# Here the y is the labels (which is binary)\n",
    "print(\"Labels: {}\".format(y[:10]))\n",
    "\n",
    "# The X is the \"coordinate\" on the graph. make_blobs will always make the X 2d\n",
    "print(\"Data: {}\".format(X[:10]))"
   ]
  },
  {
   "cell_type": "code",
   "execution_count": 60,
   "metadata": {},
   "outputs": [
    {
     "data": {
      "text/plain": [
       "<matplotlib.collections.PathCollection at 0x7fbb0d2260d0>"
      ]
     },
     "execution_count": 60,
     "metadata": {},
     "output_type": "execute_result"
    },
    {
     "data": {
      "image/png": "[encoded data removed]",
      "text/plain": [
       "<Figure size 432x288 with 1 Axes>"
      ]
     },
     "metadata": {
      "needs_background": "light"
     },
     "output_type": "display_data"
    }
   ],
   "source": [
    "# Step 4 (optional): plot the graph\n",
    "\n",
    "# What does the below 'col' mean? If the output (y) is 0, make it blue. if not, make it red\n",
    "col = np.where(y==0, 'blue', 'red')\n",
    "\n",
    "# What does the below scatter plot code mean? for each X input, plot the first and second value, then colo with 'col'\n",
    "plt.scatter(X[:, 0], X[:, 1], c=col)\n",
    "\n",
    "# How to read: the plot does not have any y axis. Visualize it as a X1 axis and X2 axis\n",
    "# The red and blue dots are the values of y (in this case, it is 0 or 1)\n",
    "# Example: using the first 'coordinates' in the 2d array\n",
    "    # X1 (horizontal axis) = -2.99\n",
    "    # X2 (vertical axis) = 3.03\n",
    "    # y value = blue"
   ]
  },
  {
   "cell_type": "code",
   "execution_count": 61,
   "metadata": {},
   "outputs": [],
   "source": [
    "# Step 5: split the data into training and testing\n",
    "\n",
    "from sklearn.model_selection import train_test_split\n",
    "\n",
    "X_train, X_test, y_train, y_test = train_test_split(X, y, random_state=1, stratify=y)\n",
    "\n",
    "# stratify: tells the dependency to randomize the datasets but still keep the resulting labels\n",
    "# as closely related to the labels of the original dataset"
   ]
  },
  {
   "cell_type": "code",
   "execution_count": 62,
   "metadata": {},
   "outputs": [],
   "source": [
    "# Step 6: create a logisitc regression model (similar code to linear regression modeling)\n",
    "\n",
    "from sklearn.linear_model import LogisticRegression\n",
    "\n",
    "classifier = LogisticRegression()\n",
    "\n",
    "# Note: This method also supports multivariate datasets as well"
   ]
  },
  {
   "cell_type": "code",
   "execution_count": 63,
   "metadata": {},
   "outputs": [
    {
     "data": {
      "text/plain": [
       "LogisticRegression()"
      ]
     },
     "execution_count": 63,
     "metadata": {},
     "output_type": "execute_result"
    }
   ],
   "source": [
    "# Step 7: Fit (train) the training data\n",
    "\n",
    "classifier.fit(X_train, y_train)"
   ]
  },
  {
   "cell_type": "code",
   "execution_count": 64,
   "metadata": {},
   "outputs": [
    {
     "name": "stdout",
     "output_type": "stream",
     "text": [
      "Training Data: 1.0\n",
      "Testing Data: 1.0\n"
     ]
    }
   ],
   "source": [
    "# Step 8: Validate the model using the test data\n",
    "\n",
    "print(f\"Training Data: {classifier.score(X_train, y_train)}\")\n",
    "print(f\"Testing Data: {classifier.score(X_test, y_test)}\")"
   ]
  },
  {
   "cell_type": "code",
   "execution_count": 65,
   "metadata": {},
   "outputs": [
    {
     "data": {
      "text/plain": [
       "<matplotlib.collections.PathCollection at 0x7fbb0d669dc0>"
      ]
     },
     "execution_count": 65,
     "metadata": {},
     "output_type": "execute_result"
    },
    {
     "data": {
      "image/png": "[encoded data removed]",
      "text/plain": [
       "<Figure size 432x288 with 1 Axes>"
      ]
     },
     "metadata": {
      "needs_background": "light"
     },
     "output_type": "display_data"
    }
   ],
   "source": [
    "# Step 9: Make predictions (we can do this by generating a new point, then throw that point in the model)\n",
    "\n",
    "# create the new data point\n",
    "# new_data = np.array([[-2, 6]])\n",
    "new_data = np.array([[6, 4]])\n",
    "\n",
    "# plot the new data against the original dataset\n",
    "col = np.where(y==0, 'blue', 'red')\n",
    "plt.scatter(X[:, 0], X[: , 1], c=col)\n",
    "plt.scatter(new_data[0, 0], new_data[0, 1], c='purple', marker='X', s=100)"
   ]
  },
  {
   "cell_type": "markdown",
   "metadata": {},
   "source": [
    "### Judging by its placement, it should be predicted as 0 or 'in the blue class'"
   ]
  },
  {
   "cell_type": "code",
   "execution_count": 66,
   "metadata": {},
   "outputs": [
    {
     "name": "stdout",
     "output_type": "stream",
     "text": [
      "Classes are either 0 (blue) or 1 (red)\n",
      "The new data was classified as: [1]\n"
     ]
    }
   ],
   "source": [
    "# Step 10: Predict the class of the new data point (blue or red)\n",
    "\n",
    "predictions = classifier.predict(new_data)\n",
    "print(\"Classes are either 0 (blue) or 1 (red)\")\n",
    "print(f\"The new data was classified as: {predictions}\")"
   ]
  },
  {
   "cell_type": "code",
   "execution_count": 67,
   "metadata": {},
   "outputs": [
    {
     "data": {
      "text/html": [
       "<div>\n",
       "<style scoped>\n",
       "    .dataframe tbody tr th:only-of-type {\n",
       "        vertical-align: middle;\n",
       "    }\n",
       "\n",
       "    .dataframe tbody tr th {\n",
       "        vertical-align: top;\n",
       "    }\n",
       "\n",
       "    .dataframe thead th {\n",
       "        text-align: right;\n",
       "    }\n",
       "</style>\n",
       "<table border=\"1\" class=\"dataframe\">\n",
       "  <thead>\n",
       "    <tr style=\"text-align: right;\">\n",
       "      <th></th>\n",
       "      <th>Predictions</th>\n",
       "      <th>Actual</th>\n",
       "    </tr>\n",
       "  </thead>\n",
       "  <tbody>\n",
       "    <tr>\n",
       "      <th>0</th>\n",
       "      <td>1</td>\n",
       "      <td>1</td>\n",
       "    </tr>\n",
       "    <tr>\n",
       "      <th>1</th>\n",
       "      <td>0</td>\n",
       "      <td>0</td>\n",
       "    </tr>\n",
       "    <tr>\n",
       "      <th>2</th>\n",
       "      <td>1</td>\n",
       "      <td>1</td>\n",
       "    </tr>\n",
       "    <tr>\n",
       "      <th>3</th>\n",
       "      <td>1</td>\n",
       "      <td>1</td>\n",
       "    </tr>\n",
       "    <tr>\n",
       "      <th>4</th>\n",
       "      <td>1</td>\n",
       "      <td>1</td>\n",
       "    </tr>\n",
       "    <tr>\n",
       "      <th>5</th>\n",
       "      <td>0</td>\n",
       "      <td>0</td>\n",
       "    </tr>\n",
       "    <tr>\n",
       "      <th>6</th>\n",
       "      <td>1</td>\n",
       "      <td>1</td>\n",
       "    </tr>\n",
       "    <tr>\n",
       "      <th>7</th>\n",
       "      <td>1</td>\n",
       "      <td>1</td>\n",
       "    </tr>\n",
       "    <tr>\n",
       "      <th>8</th>\n",
       "      <td>1</td>\n",
       "      <td>1</td>\n",
       "    </tr>\n",
       "    <tr>\n",
       "      <th>9</th>\n",
       "      <td>0</td>\n",
       "      <td>0</td>\n",
       "    </tr>\n",
       "  </tbody>\n",
       "</table>\n",
       "</div>"
      ],
      "text/plain": [
       "   Predictions  Actual\n",
       "0            1       1\n",
       "1            0       0\n",
       "2            1       1\n",
       "3            1       1\n",
       "4            1       1\n",
       "5            0       0\n",
       "6            1       1\n",
       "7            1       1\n",
       "8            1       1\n",
       "9            0       0"
      ]
     },
     "execution_count": 67,
     "metadata": {},
     "output_type": "execute_result"
    }
   ],
   "source": [
    "# Step 11 (optional): We can also compare the predictions to the actual dataset using pandas\n",
    "\n",
    "predictions = classifier.predict(X_test)\n",
    "comparison = pd.DataFrame({\"Predictions\": predictions,\n",
    "             \"Actual\": y_test})\n",
    "\n",
    "comparison.head(10)"
   ]
  },
  {
   "cell_type": "code",
   "execution_count": null,
   "metadata": {},
   "outputs": [],
   "source": []
  }
 ],
 "metadata": {
  "kernelspec": {
   "display_name": "Python 3",
   "language": "python",
   "name": "python3"
  },
  "language_info": {
   "codemirror_mode": {
    "name": "ipython",
    "version": 3
   },
   "file_extension": ".py",
   "mimetype": "text/x-python",
   "name": "python",
   "nbconvert_exporter": "python",
   "pygments_lexer": "ipython3",
   "version": "3.8.5"
  }
 },
 "nbformat": 4,
 "nbformat_minor": 2
}
