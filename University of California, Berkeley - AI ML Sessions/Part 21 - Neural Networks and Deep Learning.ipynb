{
 "cells": [
  {
   "cell_type": "markdown",
   "metadata": {},
   "source": [
    "# NEURAL NETWORKS AND DEEP LEARNING\n",
    "\n",
    "Review the \"Introduction to Neural Networks\" Slide Show\n",
    "\n",
    "To summarize, a neural network and deep learning functions works using a \n",
    "\n",
    "1) input function\n",
    "\n",
    "2) neurons to \"filter\" or act as an activation to train the data\n",
    "\n",
    "3) output function\n",
    "\n",
    "In other words, we feed a source of data (i.e. a picture). A neural network will activate to collect data from the source. Then the output will \"choose\" a way to interpret the data the was \"filtered\". For example, a picture of a cat is fed through a neural network. That network filters through the picture and the outputs could be a set of outputs like cat, dog, mouse, or zeebra. The neural network will (in an ideal network) output a \"cat\".\n",
    "\n",
    "http://playground.tensorflow.org/#activation=tanh&batchSize=10&dataset=circle&regDataset=reg-plane&learningRate=0.03&regularizationRate=0&noise=0&networkShape=4,2&seed=0.46891&showTestData=false&discretize=false&percTrainData=50&x=true&y=true&xTimesY=false&xSquared=false&ySquared=false&cosX=false&sinX=false&cosY=false&sinY=false&collectStats=false&problem=classification&initZero=false&hideText=false"
   ]
  },
  {
   "cell_type": "code",
   "execution_count": null,
   "metadata": {},
   "outputs": [],
   "source": []
  }
 ],
 "metadata": {
  "kernelspec": {
   "display_name": "Python 3",
   "language": "python",
   "name": "python3"
  },
  "language_info": {
   "codemirror_mode": {
    "name": "ipython",
    "version": 3
   },
   "file_extension": ".py",
   "mimetype": "text/x-python",
   "name": "python",
   "nbconvert_exporter": "python",
   "pygments_lexer": "ipython3",
   "version": "3.8.5"
  }
 },
 "nbformat": 4,
 "nbformat_minor": 2
}
