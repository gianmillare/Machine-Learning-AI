{
 "cells": [
  {
   "cell_type": "markdown",
   "metadata": {},
   "source": [
    "# Neural Networks & Deep Learning\n",
    "\n",
    "A Neural Network and Deep Learning (NNDL) function works using a:\n",
    "1) input function\n",
    "2) neurons to \"filter\" or act as an activation to train the data\n",
    "3) output function\n",
    "\n",
    "In other words, we feed a source of data (i.e. a picture). A neural network will activate to collect data from the source. Then the output will \"choose\" a way to interpret the data the was \"filtered\". For example, a picture of a cat is fed through a neural network. That network filters through the picture and then outputs could be a set of outputs like cat, dog, mouse, or zeebra. The neural network will (in an ideal network) output a \"cat\".\n",
    "\n",
    "http://playground.tensorflow.org/#activation=tanh&batchSize=10&dataset=circle&regDataset=reg-plane&learningRate=0.03&regularizationRate=0&noise=0&networkShape=4,2&seed=0.46891&showTestData=false&discretize=false&percTrainData=50&x=true&y=true&xTimesY=false&xSquared=false&ySquared=false&cosX=false&sinX=false&cosY=false&sinY=false&collectStats=false&problem=classification&initZero=false&hideText=false"
   ]
  },
  {
   "cell_type": "markdown",
   "metadata": {},
   "source": [
    "### A image depicting the idea behind neural networks\n",
    "\n",
    "Notice how there is an input and output layer, with a hidden layer to perform some sort of calculation.  \n",
    "\n",
    "<img src=\"images/nndl.png\">"
   ]
  },
  {
   "cell_type": "markdown",
   "metadata": {},
   "source": [
    "<strong>Input Layer</strong>: This layer takes in all the X's (features), which are also known as the independent variables. It takes those variables and feeds them into the Hidden Layer.  \n",
    "\n",
    "<strong>Hidden Layer</strong>: This is where the magic happens. The NNDL will apply some sort of calculation/algorithm using an activitaion function on the input variables. Note that its initial calculations apply some sort of weight to each of the input variables passed in.  \n",
    "\n",
    "<strong>Output Layer</strong>: This takes the output of the hidden layer. There is an activation function in this layer just like the hidden layer. However, in this layer, it will take the outputs from the hidden layer and compare it to 1. In other words, it 'transforms' the calculated weights into a probability."
   ]
  },
  {
   "cell_type": "markdown",
   "metadata": {},
   "source": [
    "### NNDL Math Example 1\n",
    "\n",
    "<img src=\"images/nndl2.png\">"
   ]
  },
  {
   "cell_type": "markdown",
   "metadata": {},
   "source": [
    "# Key Takeaway: Neural Networks generally output PROBABILITIES\n",
    "\n",
    "<img src=\"images/nndl3.png\">"
   ]
  },
  {
   "cell_type": "markdown",
   "metadata": {},
   "source": [
    "### So How do Neural Networks work?\n",
    "\n",
    "Neural Networks are trained by feeding it (forward propagation) a bunch of inputs (like pictures of cats and dogs) and comparing the outputs to a known label (for example, the output was a cat). Let's say the output was incorrect, the error in the output probability is then fed back (back propagation) to update the weights in each neuron (hidden layer). This forward and back propagation is repeated until the neural network learns how to provide an accurate probability for a given input.  "
   ]
  },
  {
   "cell_type": "code",
   "execution_count": null,
   "metadata": {},
   "outputs": [],
   "source": []
  }
 ],
 "metadata": {
  "kernelspec": {
   "display_name": "Python 3",
   "language": "python",
   "name": "python3"
  },
  "language_info": {
   "codemirror_mode": {
    "name": "ipython",
    "version": 3
   },
   "file_extension": ".py",
   "mimetype": "text/x-python",
   "name": "python",
   "nbconvert_exporter": "python",
   "pygments_lexer": "ipython3",
   "version": "3.8.5"
  }
 },
 "nbformat": 4,
 "nbformat_minor": 2
}
