{
 "cells": [
  {
   "cell_type": "markdown",
   "id": "bb7336c8",
   "metadata": {},
   "source": [
    "# Convolutional Neural Networks or CNNs\n",
    "\n",
    "\"A CNN is a type of neural network (almost always a deep learning neural network) that is effective at computer vision. Primary uses cases include image recognition and classification.  \n",
    "\n",
    "A deep learning network can be used to classify images.  However, the network created by a deep learning model recognizes global patterns in the pixels.  For example, the matrix created in the MNIST Image Reader application used each pixel as a feature but did not consider the relationship between those pixels.  \n",
    "\n",
    "In a CNN, spatial features are also considered by using filters.  This allows features to be constructed from patterns in the image no matter where they occur in the image.  In the example seen earlier, the MNIST model might not have been effective if the image contained a number that was severely off-center or much smaller in relationship to the canvas than the images it was trained on. In other words, if the image is more abstract or did not fit a specific criteria/pattern as a whole, the Deep Neural Network would have failed at accurate predictions. This is where CNNs shine the most.  \n",
    "\n",
    "A CNN preserves the relationship between pixels by learning image features using small squares or filters of input data.  Each filter is responsible for identifying a different spatial feature like edge, color, or texture.  Imagine trying to detect a tiger in an image. One filter might highlight everything that is orange and another everything with stripes.\" - Charles Huyi"
   ]
  },
  {
   "cell_type": "code",
   "execution_count": null,
   "id": "8783ecbb",
   "metadata": {},
   "outputs": [],
   "source": []
  }
 ],
 "metadata": {
  "kernelspec": {
   "display_name": "Python 3",
   "language": "python",
   "name": "python3"
  },
  "language_info": {
   "codemirror_mode": {
    "name": "ipython",
    "version": 3
   },
   "file_extension": ".py",
   "mimetype": "text/x-python",
   "name": "python",
   "nbconvert_exporter": "python",
   "pygments_lexer": "ipython3",
   "version": "3.8.9"
  }
 },
 "nbformat": 4,
 "nbformat_minor": 5
}
