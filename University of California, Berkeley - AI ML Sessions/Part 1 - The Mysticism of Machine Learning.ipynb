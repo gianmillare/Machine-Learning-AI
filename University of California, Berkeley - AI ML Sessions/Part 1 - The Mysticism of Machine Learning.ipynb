{
 "cells": [
  {
   "cell_type": "markdown",
   "metadata": {},
   "source": [
    "# The Mysticism of Machine Learning\n",
    "\n",
    "Introduction to Machine Learning, its importance, and the things we will cover in the following sessions."
   ]
  },
  {
   "cell_type": "markdown",
   "metadata": {},
   "source": [
    "### In a nutshell, Machine Learning is just Python Libraries and Statistics"
   ]
  },
  {
   "cell_type": "markdown",
   "metadata": {},
   "source": [
    "<strong>Machine Learning</strong>: Capability of software to generalize phenomena (past or future) based on past exerpeince.  \n",
    "\n",
    "<strong>Predictive Analytics</strong>: Capability of software to predict future outcomes based on historic data.  \n",
    "\n",
    "<strong>Artificial Intelligence</strong>: Software (and machines) that have a series of options to achieve a particular goal."
   ]
  },
  {
   "cell_type": "code",
   "execution_count": null,
   "metadata": {},
   "outputs": [],
   "source": []
  }
 ],
 "metadata": {
  "kernelspec": {
   "display_name": "Python 3",
   "language": "python",
   "name": "python3"
  },
  "language_info": {
   "codemirror_mode": {
    "name": "ipython",
    "version": 3
   },
   "file_extension": ".py",
   "mimetype": "text/x-python",
   "name": "python",
   "nbconvert_exporter": "python",
   "pygments_lexer": "ipython3",
   "version": "3.8.5"
  }
 },
 "nbformat": 4,
 "nbformat_minor": 4
}
