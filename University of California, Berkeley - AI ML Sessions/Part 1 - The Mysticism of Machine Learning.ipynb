{
 "cells": [
  {
   "cell_type": "markdown",
   "metadata": {},
   "source": [
    "# The Mysticism of Machine Learning\n",
    "\n",
    "Introduction to Machine Learning, its importance, and the things we will cover in the following sessions."
   ]
  },
  {
   "cell_type": "markdown",
   "metadata": {},
   "source": [
    "### In a nutshell, Machine Learning is just Python Libraries and Statistics"
   ]
  },
  {
   "cell_type": "markdown",
   "metadata": {},
   "source": [
    "<strong>Machine Learning</strong>: Capability of software to generalize phenomena (past or future) based on past exerpeince.  \n",
    "\n",
    "<strong>Predictive Analytics</strong>: Capability of software to predict future outcomes based on historic data.  \n",
    "\n",
    "<strong>Artificial Intelligence</strong>: Software (and machines) that have a series of options to achieve a particular goal."
   ]
  },
  {
   "cell_type": "markdown",
   "metadata": {},
   "source": [
    "### Machine Learning Categories\n",
    "\n",
    "<strong>Supervised Learning</strong>: We feed data to a system where we provide a specific outcome (label). (good or bad, yes or no). We can expect that if the model is working, it should output the same labels we have.  \n",
    "\n",
    "<strong>Unsupervised Learning</strong>: We feed data to a system where we do not know the specific outcome. In this case, the system will output something for us.  \n",
    "\n",
    "<strong>Reinforcement Learning</strong>: we feed data, and if the model outputs a correct answer (label) the system is rewarded. For incorrect answers, no award is given."
   ]
  },
  {
   "cell_type": "code",
   "execution_count": null,
   "metadata": {},
   "outputs": [],
   "source": []
  }
 ],
 "metadata": {
  "kernelspec": {
   "display_name": "Python 3",
   "language": "python",
   "name": "python3"
  },
  "language_info": {
   "codemirror_mode": {
    "name": "ipython",
    "version": 3
   },
   "file_extension": ".py",
   "mimetype": "text/x-python",
   "name": "python",
   "nbconvert_exporter": "python",
   "pygments_lexer": "ipython3",
   "version": "3.8.5"
  }
 },
 "nbformat": 4,
 "nbformat_minor": 4
}
