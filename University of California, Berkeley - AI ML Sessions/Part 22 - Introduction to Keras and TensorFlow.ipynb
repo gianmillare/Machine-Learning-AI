{
 "cells": [
  {
   "cell_type": "markdown",
   "metadata": {},
   "source": [
    "# Keras & TensorFlow\n",
    "\n",
    "For the next few sessions, we will be using Keras (which is built on TensorFlow) to build and execute Neural Network and Deep Learning models."
   ]
  },
  {
   "cell_type": "markdown",
   "metadata": {},
   "source": [
    "### Keras\n",
    "* Built using TensorFlow\n",
    "* Allows for rapid prototyping\n",
    "* Also allows accessibilities to work on top of other libraries"
   ]
  },
  {
   "cell_type": "markdown",
   "metadata": {},
   "source": [
    "### TensorFlow\n",
    "\n",
    "* A popular Machine Learning library\n",
    "* Used to build Neural Networks\n",
    "* Can run on multiple Platforms\n",
    "* Supports distributed computing\n",
    "* Allows for detailed fine tuning of neurons\n",
    "* Built using Python Programming language"
   ]
  },
  {
   "cell_type": "markdown",
   "metadata": {},
   "source": [
    "### Comparing Keras + TensorFlow to Scikit-learn\n",
    "\n",
    "Keras allows interaction with Tensorflow through an interface similar to what we've seen using sklearn.  \n",
    "\n",
    "<img src=\"images/ktf.png\">"
   ]
  },
  {
   "cell_type": "markdown",
   "metadata": {},
   "source": [
    "\"Sequential\" is the strucutre of neural nets"
   ]
  },
  {
   "cell_type": "code",
   "execution_count": null,
   "metadata": {},
   "outputs": [],
   "source": []
  }
 ],
 "metadata": {
  "kernelspec": {
   "display_name": "Python 3",
   "language": "python",
   "name": "python3"
  },
  "language_info": {
   "codemirror_mode": {
    "name": "ipython",
    "version": 3
   },
   "file_extension": ".py",
   "mimetype": "text/x-python",
   "name": "python",
   "nbconvert_exporter": "python",
   "pygments_lexer": "ipython3",
   "version": "3.8.5"
  }
 },
 "nbformat": 4,
 "nbformat_minor": 4
}
