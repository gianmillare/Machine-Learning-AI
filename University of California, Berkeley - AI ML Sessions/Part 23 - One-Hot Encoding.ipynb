{
 "cells": [
  {
   "cell_type": "markdown",
   "metadata": {},
   "source": [
    "# One-Hot Encoding\n",
    "\n",
    "Review: Why do we preprocess data?\n",
    "\n",
    "    1. To transform the data to better suit a model's assumptions\n",
    "    2. To format the data in the way a model expects\n",
    "\n",
    "# Inputs in Neural Networks\n",
    "\n",
    "Inputs to Neural Networks are VECTORS. Each entry in the vector corresponds to a FEATURE. Those features are used to make predictions.\n",
    "\n",
    "VECTORS can only contain NUMERICAL DATA. THEY CANNOT BE STRINGS"
   ]
  },
  {
   "cell_type": "code",
   "execution_count": null,
   "metadata": {},
   "outputs": [],
   "source": []
  }
 ],
 "metadata": {
  "kernelspec": {
   "display_name": "Python 3",
   "language": "python",
   "name": "python3"
  },
  "language_info": {
   "codemirror_mode": {
    "name": "ipython",
    "version": 3
   },
   "file_extension": ".py",
   "mimetype": "text/x-python",
   "name": "python",
   "nbconvert_exporter": "python",
   "pygments_lexer": "ipython3",
   "version": "3.8.5"
  }
 },
 "nbformat": 4,
 "nbformat_minor": 2
}
