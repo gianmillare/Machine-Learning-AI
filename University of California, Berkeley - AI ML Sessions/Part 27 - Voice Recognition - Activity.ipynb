{
 "cells": [
  {
   "cell_type": "markdown",
   "metadata": {},
   "source": [
    "# Voice Recognition using Deep Neural Networks\n",
    "Gender Recognition by Voice and Speech Analysis\n",
    "\n",
    "This database was created to identify a voice as male or female, based upon acoustic properties of the voice and speech. The dataset consists of 3,168 recorded voice samples, collected from male and female speakers. The voice samples are pre-processed by acoustic analysis in R using the seewave and tuneR packages, with an analyzed frequency range of 0hz-280hz (human vocal range).\n",
    "\n",
    "## The Dataset\n",
    "The following acoustic properties of each voice are measured and included within the CSV:\n",
    "\n",
    "* meanfreq: mean frequency (in kHz)\n",
    "* sd: standard deviation of frequency\n",
    "* median: median frequency (in kHz)\n",
    "* Q25: first quantile (in kHz)\n",
    "* Q75: third quantile (in kHz)\n",
    "* IQR: interquantile range (in kHz)\n",
    "* skew: skewness (see note in specprop description)\n",
    "* kurt: kurtosis (see note in specprop description)\n",
    "* sp.ent: spectral entropy\n",
    "* sfm: spectral flatness\n",
    "* mode: mode frequency\n",
    "* centroid: frequency centroid (see specprop)\n",
    "* peakf: peak frequency (frequency with highest energy)\n",
    "* meanfun: average of fundamental frequency measured across acoustic signal\n",
    "* minfun: minimum fundamental frequency measured across acoustic signal\n",
    "* maxfun: maximum fundamental frequency measured across acoustic signal\n",
    "* meandom: average of dominant frequency measured across acoustic signal\n",
    "* mindom: minimum of dominant frequency measured across acoustic signal\n",
    "* maxdom: maximum of dominant frequency measured across acoustic signal\n",
    "* dfrange: range of dominant frequency measured across acoustic signal\n",
    "* modindx: modulation index. Calculated as the accumulated absolute difference between adjacent measurements of fundamental frequencies divided by the frequency range\n",
    "* label: male or female"
   ]
  },
  {
   "cell_type": "code",
   "execution_count": 7,
   "metadata": {
    "slideshow": {
     "slide_type": "fragment"
    }
   },
   "outputs": [],
   "source": [
    "# Step 1: Import Dependencies\n",
    "\n",
    "import numpy as np\n",
    "import pandas as pd"
   ]
  },
  {
   "cell_type": "code",
   "execution_count": 8,
   "metadata": {},
   "outputs": [
    {
     "data": {
      "text/html": [
       "<div>\n",
       "<style scoped>\n",
       "    .dataframe tbody tr th:only-of-type {\n",
       "        vertical-align: middle;\n",
       "    }\n",
       "\n",
       "    .dataframe tbody tr th {\n",
       "        vertical-align: top;\n",
       "    }\n",
       "\n",
       "    .dataframe thead th {\n",
       "        text-align: right;\n",
       "    }\n",
       "</style>\n",
       "<table border=\"1\" class=\"dataframe\">\n",
       "  <thead>\n",
       "    <tr style=\"text-align: right;\">\n",
       "      <th></th>\n",
       "      <th>meanfreq</th>\n",
       "      <th>sd</th>\n",
       "      <th>median</th>\n",
       "      <th>Q25</th>\n",
       "      <th>Q75</th>\n",
       "      <th>IQR</th>\n",
       "      <th>skew</th>\n",
       "      <th>kurt</th>\n",
       "      <th>sp.ent</th>\n",
       "      <th>sfm</th>\n",
       "      <th>...</th>\n",
       "      <th>centroid</th>\n",
       "      <th>meanfun</th>\n",
       "      <th>minfun</th>\n",
       "      <th>maxfun</th>\n",
       "      <th>meandom</th>\n",
       "      <th>mindom</th>\n",
       "      <th>maxdom</th>\n",
       "      <th>dfrange</th>\n",
       "      <th>modindx</th>\n",
       "      <th>label</th>\n",
       "    </tr>\n",
       "  </thead>\n",
       "  <tbody>\n",
       "    <tr>\n",
       "      <th>0</th>\n",
       "      <td>0.059781</td>\n",
       "      <td>0.064241</td>\n",
       "      <td>0.032027</td>\n",
       "      <td>0.015071</td>\n",
       "      <td>0.090193</td>\n",
       "      <td>0.075122</td>\n",
       "      <td>12.863462</td>\n",
       "      <td>274.402906</td>\n",
       "      <td>0.893369</td>\n",
       "      <td>0.491918</td>\n",
       "      <td>...</td>\n",
       "      <td>0.059781</td>\n",
       "      <td>0.084279</td>\n",
       "      <td>0.015702</td>\n",
       "      <td>0.275862</td>\n",
       "      <td>0.007812</td>\n",
       "      <td>0.007812</td>\n",
       "      <td>0.007812</td>\n",
       "      <td>0.000000</td>\n",
       "      <td>0.000000</td>\n",
       "      <td>male</td>\n",
       "    </tr>\n",
       "    <tr>\n",
       "      <th>1</th>\n",
       "      <td>0.066009</td>\n",
       "      <td>0.067310</td>\n",
       "      <td>0.040229</td>\n",
       "      <td>0.019414</td>\n",
       "      <td>0.092666</td>\n",
       "      <td>0.073252</td>\n",
       "      <td>22.423285</td>\n",
       "      <td>634.613855</td>\n",
       "      <td>0.892193</td>\n",
       "      <td>0.513724</td>\n",
       "      <td>...</td>\n",
       "      <td>0.066009</td>\n",
       "      <td>0.107937</td>\n",
       "      <td>0.015826</td>\n",
       "      <td>0.250000</td>\n",
       "      <td>0.009014</td>\n",
       "      <td>0.007812</td>\n",
       "      <td>0.054688</td>\n",
       "      <td>0.046875</td>\n",
       "      <td>0.052632</td>\n",
       "      <td>male</td>\n",
       "    </tr>\n",
       "    <tr>\n",
       "      <th>2</th>\n",
       "      <td>0.077316</td>\n",
       "      <td>0.083829</td>\n",
       "      <td>0.036718</td>\n",
       "      <td>0.008701</td>\n",
       "      <td>0.131908</td>\n",
       "      <td>0.123207</td>\n",
       "      <td>30.757155</td>\n",
       "      <td>1024.927705</td>\n",
       "      <td>0.846389</td>\n",
       "      <td>0.478905</td>\n",
       "      <td>...</td>\n",
       "      <td>0.077316</td>\n",
       "      <td>0.098706</td>\n",
       "      <td>0.015656</td>\n",
       "      <td>0.271186</td>\n",
       "      <td>0.007990</td>\n",
       "      <td>0.007812</td>\n",
       "      <td>0.015625</td>\n",
       "      <td>0.007812</td>\n",
       "      <td>0.046512</td>\n",
       "      <td>male</td>\n",
       "    </tr>\n",
       "    <tr>\n",
       "      <th>3</th>\n",
       "      <td>0.151228</td>\n",
       "      <td>0.072111</td>\n",
       "      <td>0.158011</td>\n",
       "      <td>0.096582</td>\n",
       "      <td>0.207955</td>\n",
       "      <td>0.111374</td>\n",
       "      <td>1.232831</td>\n",
       "      <td>4.177296</td>\n",
       "      <td>0.963322</td>\n",
       "      <td>0.727232</td>\n",
       "      <td>...</td>\n",
       "      <td>0.151228</td>\n",
       "      <td>0.088965</td>\n",
       "      <td>0.017798</td>\n",
       "      <td>0.250000</td>\n",
       "      <td>0.201497</td>\n",
       "      <td>0.007812</td>\n",
       "      <td>0.562500</td>\n",
       "      <td>0.554688</td>\n",
       "      <td>0.247119</td>\n",
       "      <td>male</td>\n",
       "    </tr>\n",
       "    <tr>\n",
       "      <th>4</th>\n",
       "      <td>0.135120</td>\n",
       "      <td>0.079146</td>\n",
       "      <td>0.124656</td>\n",
       "      <td>0.078720</td>\n",
       "      <td>0.206045</td>\n",
       "      <td>0.127325</td>\n",
       "      <td>1.101174</td>\n",
       "      <td>4.333713</td>\n",
       "      <td>0.971955</td>\n",
       "      <td>0.783568</td>\n",
       "      <td>...</td>\n",
       "      <td>0.135120</td>\n",
       "      <td>0.106398</td>\n",
       "      <td>0.016931</td>\n",
       "      <td>0.266667</td>\n",
       "      <td>0.712812</td>\n",
       "      <td>0.007812</td>\n",
       "      <td>5.484375</td>\n",
       "      <td>5.476562</td>\n",
       "      <td>0.208274</td>\n",
       "      <td>male</td>\n",
       "    </tr>\n",
       "  </tbody>\n",
       "</table>\n",
       "<p>5 rows × 21 columns</p>\n",
       "</div>"
      ],
      "text/plain": [
       "   meanfreq        sd    median       Q25       Q75       IQR       skew  \\\n",
       "0  0.059781  0.064241  0.032027  0.015071  0.090193  0.075122  12.863462   \n",
       "1  0.066009  0.067310  0.040229  0.019414  0.092666  0.073252  22.423285   \n",
       "2  0.077316  0.083829  0.036718  0.008701  0.131908  0.123207  30.757155   \n",
       "3  0.151228  0.072111  0.158011  0.096582  0.207955  0.111374   1.232831   \n",
       "4  0.135120  0.079146  0.124656  0.078720  0.206045  0.127325   1.101174   \n",
       "\n",
       "          kurt    sp.ent       sfm  ...  centroid   meanfun    minfun  \\\n",
       "0   274.402906  0.893369  0.491918  ...  0.059781  0.084279  0.015702   \n",
       "1   634.613855  0.892193  0.513724  ...  0.066009  0.107937  0.015826   \n",
       "2  1024.927705  0.846389  0.478905  ...  0.077316  0.098706  0.015656   \n",
       "3     4.177296  0.963322  0.727232  ...  0.151228  0.088965  0.017798   \n",
       "4     4.333713  0.971955  0.783568  ...  0.135120  0.106398  0.016931   \n",
       "\n",
       "     maxfun   meandom    mindom    maxdom   dfrange   modindx  label  \n",
       "0  0.275862  0.007812  0.007812  0.007812  0.000000  0.000000   male  \n",
       "1  0.250000  0.009014  0.007812  0.054688  0.046875  0.052632   male  \n",
       "2  0.271186  0.007990  0.007812  0.015625  0.007812  0.046512   male  \n",
       "3  0.250000  0.201497  0.007812  0.562500  0.554688  0.247119   male  \n",
       "4  0.266667  0.712812  0.007812  5.484375  5.476562  0.208274   male  \n",
       "\n",
       "[5 rows x 21 columns]"
      ]
     },
     "execution_count": 8,
     "metadata": {},
     "output_type": "execute_result"
    }
   ],
   "source": [
    "# Step 2: Get the Data\n",
    "\n",
    "voice = pd.read_csv(\"resources/voice.csv\")\n",
    "voice.head()"
   ]
  },
  {
   "cell_type": "markdown",
   "metadata": {},
   "source": [
    "### Preprocess the data\n",
    "\n",
    "Note: The output (\"label\") is a string and needs to be label-encoded"
   ]
  },
  {
   "cell_type": "code",
   "execution_count": 9,
   "metadata": {},
   "outputs": [],
   "source": [
    "# Step 3: Assign the X and y\n",
    "\n",
    "# X is everything but the output (label)\n",
    "X = voice.drop(\"label\", axis=1)\n",
    "\n",
    "# y is the output \"label\"\n",
    "y = voice['label']"
   ]
  },
  {
   "cell_type": "code",
   "execution_count": 10,
   "metadata": {},
   "outputs": [
    {
     "name": "stdout",
     "output_type": "stream",
     "text": [
      "(3168, 20) (3168,)\n"
     ]
    }
   ],
   "source": [
    "print(X.shape, y.shape)\n",
    "# X is a 2d vector array and y is a 1d vector array"
   ]
  },
  {
   "cell_type": "code",
   "execution_count": 12,
   "metadata": {},
   "outputs": [],
   "source": [
    "# Step 4: split the data into training and testing datasets\n",
    "\n",
    "from sklearn.model_selection import train_test_split\n",
    "\n",
    "X_train, X_test, y_train, y_test = train_test_split(X, y, random_state=1, stratify=y)"
   ]
  },
  {
   "cell_type": "code",
   "execution_count": 13,
   "metadata": {},
   "outputs": [],
   "source": [
    "# Step 5: Scale and fit the data using StandardScaler on the training features, then transform \n",
    "# In other words, preprocess the X training set\n",
    "\n",
    "from sklearn.preprocessing import StandardScaler\n",
    "\n",
    "X_scaler = StandardScaler().fit(X_train)\n",
    "X_train_scaled = X_scaler.transform(X_train)\n",
    "X_test_scaled = X_scaler.transform(X_test)"
   ]
  },
  {
   "cell_type": "code",
   "execution_count": 15,
   "metadata": {},
   "outputs": [],
   "source": [
    "# Step 6: Because our output is a string, we label encode to a readible language for the computer\n",
    "# Preprocess the output (y)\n",
    "from sklearn.preprocessing import LabelEncoder\n",
    "\n",
    "label_encoder = LabelEncoder()\n",
    "label_encoder.fit(y_train)\n",
    "encoded_y_train = label_encoder.transform(y_train)\n",
    "encoded_y_test = label_encoder.transform(y_test)"
   ]
  },
  {
   "cell_type": "code",
   "execution_count": 16,
   "metadata": {},
   "outputs": [],
   "source": [
    "# Step 7: Now that y is label encoded, use One Hot Encoding to make it categorical\n",
    "\n",
    "from keras.utils import to_categorical\n",
    "\n",
    "y_train_categorical = to_categorical(encoded_y_train)\n",
    "y_test_categorical = to_categorical(encoded_y_test)"
   ]
  },
  {
   "cell_type": "markdown",
   "metadata": {},
   "source": [
    "### Create the Deep Learning Neural Network"
   ]
  },
  {
   "cell_type": "code",
   "execution_count": 18,
   "metadata": {},
   "outputs": [],
   "source": [
    "# Step 8: Create the model using Sequential and Dense\n",
    "from keras.models import Sequential\n",
    "from keras.layers import Dense\n",
    "\n",
    "model = Sequential()\n",
    "model.add(Dense(units=100, activation='relu', input_dim=20))\n",
    "model.add(Dense(units=100, activation='relu'))\n",
    "model.add(Dense(units=2, activation='softmax'))"
   ]
  },
  {
   "cell_type": "code",
   "execution_count": 19,
   "metadata": {},
   "outputs": [],
   "source": [
    "# Step 9: Compile the model\n",
    "\n",
    "model.compile(optimizer='adam', loss='categorical_crossentropy', metrics=['accuracy'])"
   ]
  },
  {
   "cell_type": "code",
   "execution_count": 20,
   "metadata": {},
   "outputs": [
    {
     "name": "stdout",
     "output_type": "stream",
     "text": [
      "Epoch 1/100\n",
      "75/75 - 0s - loss: 0.2670 - accuracy: 0.9070\n",
      "Epoch 2/100\n",
      "75/75 - 0s - loss: 0.0892 - accuracy: 0.9735\n",
      "Epoch 3/100\n",
      "75/75 - 0s - loss: 0.0690 - accuracy: 0.9777\n",
      "Epoch 4/100\n",
      "75/75 - 0s - loss: 0.0672 - accuracy: 0.9781\n",
      "Epoch 5/100\n",
      "75/75 - 0s - loss: 0.0576 - accuracy: 0.9827\n",
      "Epoch 6/100\n",
      "75/75 - 0s - loss: 0.0556 - accuracy: 0.9802\n",
      "Epoch 7/100\n",
      "75/75 - 0s - loss: 0.0521 - accuracy: 0.9806\n",
      "Epoch 8/100\n",
      "75/75 - 0s - loss: 0.0463 - accuracy: 0.9836\n",
      "Epoch 9/100\n",
      "75/75 - 0s - loss: 0.0466 - accuracy: 0.9840\n",
      "Epoch 10/100\n",
      "75/75 - 0s - loss: 0.0433 - accuracy: 0.9848\n",
      "Epoch 11/100\n",
      "75/75 - 0s - loss: 0.0361 - accuracy: 0.9865\n",
      "Epoch 12/100\n",
      "75/75 - 0s - loss: 0.0380 - accuracy: 0.9861\n",
      "Epoch 13/100\n",
      "75/75 - 0s - loss: 0.0334 - accuracy: 0.9882\n",
      "Epoch 14/100\n",
      "75/75 - 0s - loss: 0.0322 - accuracy: 0.9878\n",
      "Epoch 15/100\n",
      "75/75 - 0s - loss: 0.0289 - accuracy: 0.9895\n",
      "Epoch 16/100\n",
      "75/75 - 0s - loss: 0.0269 - accuracy: 0.9891\n",
      "Epoch 17/100\n",
      "75/75 - 0s - loss: 0.0223 - accuracy: 0.9916\n",
      "Epoch 18/100\n",
      "75/75 - 0s - loss: 0.0231 - accuracy: 0.9916\n",
      "Epoch 19/100\n",
      "75/75 - 0s - loss: 0.0226 - accuracy: 0.9907\n",
      "Epoch 20/100\n",
      "75/75 - 0s - loss: 0.0269 - accuracy: 0.9912\n",
      "Epoch 21/100\n",
      "75/75 - 0s - loss: 0.0196 - accuracy: 0.9937\n",
      "Epoch 22/100\n",
      "75/75 - 0s - loss: 0.0187 - accuracy: 0.9937\n",
      "Epoch 23/100\n",
      "75/75 - 0s - loss: 0.0147 - accuracy: 0.9949\n",
      "Epoch 24/100\n",
      "75/75 - 0s - loss: 0.0132 - accuracy: 0.9949\n",
      "Epoch 25/100\n",
      "75/75 - 0s - loss: 0.0160 - accuracy: 0.9949\n",
      "Epoch 26/100\n",
      "75/75 - 0s - loss: 0.0136 - accuracy: 0.9954\n",
      "Epoch 27/100\n",
      "75/75 - 0s - loss: 0.0127 - accuracy: 0.9958\n",
      "Epoch 28/100\n",
      "75/75 - 0s - loss: 0.0102 - accuracy: 0.9979\n",
      "Epoch 29/100\n",
      "75/75 - 0s - loss: 0.0108 - accuracy: 0.9966\n",
      "Epoch 30/100\n",
      "75/75 - 0s - loss: 0.0088 - accuracy: 0.9979\n",
      "Epoch 31/100\n",
      "75/75 - 0s - loss: 0.0089 - accuracy: 0.9975\n",
      "Epoch 32/100\n",
      "75/75 - 0s - loss: 0.0081 - accuracy: 0.9975\n",
      "Epoch 33/100\n",
      "75/75 - 0s - loss: 0.0076 - accuracy: 0.9987\n",
      "Epoch 34/100\n",
      "75/75 - 0s - loss: 0.0055 - accuracy: 0.9987\n",
      "Epoch 35/100\n",
      "75/75 - 0s - loss: 0.0048 - accuracy: 0.9996\n",
      "Epoch 36/100\n",
      "75/75 - 0s - loss: 0.0053 - accuracy: 0.9987\n",
      "Epoch 37/100\n",
      "75/75 - 0s - loss: 0.0051 - accuracy: 0.9987\n",
      "Epoch 38/100\n",
      "75/75 - 0s - loss: 0.0085 - accuracy: 0.9975\n",
      "Epoch 39/100\n",
      "75/75 - 0s - loss: 0.0091 - accuracy: 0.9962\n",
      "Epoch 40/100\n",
      "75/75 - 0s - loss: 0.0045 - accuracy: 0.9996\n",
      "Epoch 41/100\n",
      "75/75 - 0s - loss: 0.0047 - accuracy: 0.9987\n",
      "Epoch 42/100\n",
      "75/75 - 0s - loss: 0.0051 - accuracy: 0.9987\n",
      "Epoch 43/100\n",
      "75/75 - 0s - loss: 0.0092 - accuracy: 0.9983\n",
      "Epoch 44/100\n",
      "75/75 - 0s - loss: 0.0138 - accuracy: 0.9975\n",
      "Epoch 45/100\n",
      "75/75 - 0s - loss: 0.0035 - accuracy: 1.0000\n",
      "Epoch 46/100\n",
      "75/75 - 0s - loss: 0.0025 - accuracy: 0.9996\n",
      "Epoch 47/100\n",
      "75/75 - 0s - loss: 0.0020 - accuracy: 1.0000\n",
      "Epoch 48/100\n",
      "75/75 - 0s - loss: 0.0017 - accuracy: 1.0000\n",
      "Epoch 49/100\n",
      "75/75 - 0s - loss: 0.0016 - accuracy: 1.0000\n",
      "Epoch 50/100\n",
      "75/75 - 0s - loss: 0.0014 - accuracy: 1.0000\n",
      "Epoch 51/100\n",
      "75/75 - 0s - loss: 0.0014 - accuracy: 1.0000\n",
      "Epoch 52/100\n",
      "75/75 - 0s - loss: 0.0016 - accuracy: 1.0000\n",
      "Epoch 53/100\n",
      "75/75 - 0s - loss: 0.0014 - accuracy: 1.0000\n",
      "Epoch 54/100\n",
      "75/75 - 0s - loss: 0.0011 - accuracy: 1.0000\n",
      "Epoch 55/100\n",
      "75/75 - 0s - loss: 0.0013 - accuracy: 1.0000\n",
      "Epoch 56/100\n",
      "75/75 - 0s - loss: 0.0029 - accuracy: 0.9992\n",
      "Epoch 57/100\n",
      "75/75 - 0s - loss: 0.0133 - accuracy: 0.9958\n",
      "Epoch 58/100\n",
      "75/75 - 0s - loss: 0.0274 - accuracy: 0.9912\n",
      "Epoch 59/100\n",
      "75/75 - 0s - loss: 0.0191 - accuracy: 0.9933\n",
      "Epoch 60/100\n",
      "75/75 - 0s - loss: 0.0066 - accuracy: 0.9975\n",
      "Epoch 61/100\n",
      "75/75 - 0s - loss: 0.0025 - accuracy: 0.9996\n",
      "Epoch 62/100\n",
      "75/75 - 0s - loss: 0.0016 - accuracy: 1.0000\n",
      "Epoch 63/100\n",
      "75/75 - 0s - loss: 0.0015 - accuracy: 1.0000\n",
      "Epoch 64/100\n",
      "75/75 - 0s - loss: 0.0012 - accuracy: 1.0000\n",
      "Epoch 65/100\n",
      "75/75 - 0s - loss: 9.9367e-04 - accuracy: 1.0000\n",
      "Epoch 66/100\n",
      "75/75 - 0s - loss: 8.7687e-04 - accuracy: 1.0000\n",
      "Epoch 67/100\n",
      "75/75 - 0s - loss: 7.6949e-04 - accuracy: 1.0000\n",
      "Epoch 68/100\n",
      "75/75 - 0s - loss: 7.9992e-04 - accuracy: 1.0000\n",
      "Epoch 69/100\n",
      "75/75 - 0s - loss: 6.8095e-04 - accuracy: 1.0000\n",
      "Epoch 70/100\n",
      "75/75 - 0s - loss: 6.8081e-04 - accuracy: 1.0000\n",
      "Epoch 71/100\n",
      "75/75 - 0s - loss: 5.9958e-04 - accuracy: 1.0000\n",
      "Epoch 72/100\n",
      "75/75 - 0s - loss: 6.5545e-04 - accuracy: 1.0000\n",
      "Epoch 73/100\n",
      "75/75 - 0s - loss: 7.2094e-04 - accuracy: 1.0000\n",
      "Epoch 74/100\n",
      "75/75 - 0s - loss: 8.3439e-04 - accuracy: 1.0000\n",
      "Epoch 75/100\n",
      "75/75 - 0s - loss: 4.6961e-04 - accuracy: 1.0000\n",
      "Epoch 76/100\n",
      "75/75 - 0s - loss: 4.5194e-04 - accuracy: 1.0000\n",
      "Epoch 77/100\n",
      "75/75 - 0s - loss: 4.0336e-04 - accuracy: 1.0000\n",
      "Epoch 78/100\n",
      "75/75 - 0s - loss: 4.3172e-04 - accuracy: 1.0000\n",
      "Epoch 79/100\n",
      "75/75 - 0s - loss: 3.7043e-04 - accuracy: 1.0000\n",
      "Epoch 80/100\n",
      "75/75 - 0s - loss: 3.3669e-04 - accuracy: 1.0000\n",
      "Epoch 81/100\n",
      "75/75 - 0s - loss: 3.1968e-04 - accuracy: 1.0000\n",
      "Epoch 82/100\n",
      "75/75 - 0s - loss: 3.4594e-04 - accuracy: 1.0000\n",
      "Epoch 83/100\n",
      "75/75 - 0s - loss: 3.0444e-04 - accuracy: 1.0000\n",
      "Epoch 84/100\n",
      "75/75 - 0s - loss: 2.9356e-04 - accuracy: 1.0000\n",
      "Epoch 85/100\n",
      "75/75 - 0s - loss: 2.6832e-04 - accuracy: 1.0000\n",
      "Epoch 86/100\n",
      "75/75 - 0s - loss: 2.6107e-04 - accuracy: 1.0000\n",
      "Epoch 87/100\n",
      "75/75 - 0s - loss: 2.5323e-04 - accuracy: 1.0000\n",
      "Epoch 88/100\n",
      "75/75 - 0s - loss: 2.4542e-04 - accuracy: 1.0000\n",
      "Epoch 89/100\n",
      "75/75 - 0s - loss: 2.0620e-04 - accuracy: 1.0000\n",
      "Epoch 90/100\n",
      "75/75 - 0s - loss: 2.4938e-04 - accuracy: 1.0000\n",
      "Epoch 91/100\n",
      "75/75 - 0s - loss: 2.4451e-04 - accuracy: 1.0000\n",
      "Epoch 92/100\n",
      "75/75 - 0s - loss: 2.1937e-04 - accuracy: 1.0000\n",
      "Epoch 93/100\n",
      "75/75 - 0s - loss: 2.0153e-04 - accuracy: 1.0000\n",
      "Epoch 94/100\n",
      "75/75 - 0s - loss: 1.8819e-04 - accuracy: 1.0000\n",
      "Epoch 95/100\n",
      "75/75 - 0s - loss: 5.6790e-04 - accuracy: 1.0000\n",
      "Epoch 96/100\n",
      "75/75 - 0s - loss: 0.0320 - accuracy: 0.9933\n",
      "Epoch 97/100\n",
      "75/75 - 0s - loss: 0.0296 - accuracy: 0.9916\n",
      "Epoch 98/100\n",
      "75/75 - 0s - loss: 0.0130 - accuracy: 0.9954\n",
      "Epoch 99/100\n",
      "75/75 - 0s - loss: 0.0063 - accuracy: 0.9992\n",
      "Epoch 100/100\n",
      "75/75 - 0s - loss: 0.0016 - accuracy: 1.0000\n"
     ]
    },
    {
     "data": {
      "text/plain": [
       "<tensorflow.python.keras.callbacks.History at 0x7ff815205d30>"
      ]
     },
     "execution_count": 20,
     "metadata": {},
     "output_type": "execute_result"
    }
   ],
   "source": [
    "# Step 10: Fit (train) the data to the model using the preprocessed training set\n",
    "model.fit(\n",
    "    X_train_scaled,\n",
    "    y_train_categorical,\n",
    "    epochs=100,\n",
    "    shuffle=True,\n",
    "    verbose=2\n",
    ")"
   ]
  },
  {
   "cell_type": "code",
   "execution_count": 22,
   "metadata": {},
   "outputs": [
    {
     "name": "stdout",
     "output_type": "stream",
     "text": [
      "Model: \"sequential_1\"\n",
      "_________________________________________________________________\n",
      "Layer (type)                 Output Shape              Param #   \n",
      "=================================================================\n",
      "dense (Dense)                (None, 100)               2100      \n",
      "_________________________________________________________________\n",
      "dense_1 (Dense)              (None, 100)               10100     \n",
      "_________________________________________________________________\n",
      "dense_2 (Dense)              (None, 2)                 202       \n",
      "=================================================================\n",
      "Total params: 12,402\n",
      "Trainable params: 12,402\n",
      "Non-trainable params: 0\n",
      "_________________________________________________________________\n"
     ]
    }
   ],
   "source": [
    "model.summary()"
   ]
  },
  {
   "cell_type": "code",
   "execution_count": 23,
   "metadata": {},
   "outputs": [
    {
     "name": "stdout",
     "output_type": "stream",
     "text": [
      "25/25 - 0s - loss: 0.0651 - accuracy: 0.9886\n",
      "Loss: 0.06507638841867447, Accuracy: 0.9886363744735718\n"
     ]
    }
   ],
   "source": [
    "# Step 11: Quantify the model using the preprocessed test dataset\n",
    "model_loss, model_accuracy = model.evaluate(\n",
    "    X_test_scaled, y_test_categorical, verbose=2\n",
    ")\n",
    "\n",
    "print(f\"Loss: {model_loss}, Accuracy: {model_accuracy}\")"
   ]
  },
  {
   "cell_type": "markdown",
   "metadata": {},
   "source": [
    "### Make predictions (with 98.9% accuracy)"
   ]
  },
  {
   "cell_type": "code",
   "execution_count": 24,
   "metadata": {},
   "outputs": [
    {
     "name": "stderr",
     "output_type": "stream",
     "text": [
      "/Users/gianmillare/opt/anaconda3/lib/python3.8/site-packages/tensorflow/python/keras/engine/sequential.py:450: UserWarning: `model.predict_classes()` is deprecated and will be removed after 2021-01-01. Please use instead:* `np.argmax(model.predict(x), axis=-1)`,   if your model does multi-class classification   (e.g. if it uses a `softmax` last-layer activation).* `(model.predict(x) > 0.5).astype(\"int32\")`,   if your model does binary classification   (e.g. if it uses a `sigmoid` last-layer activation).\n",
      "  warnings.warn('`model.predict_classes()` is deprecated and '\n"
     ]
    }
   ],
   "source": [
    "encoded_predictions = model.predict_classes(X_test_scaled[:5])\n",
    "prediction_labels = label_encoder.inverse_transform(encoded_predictions)"
   ]
  },
  {
   "cell_type": "code",
   "execution_count": 25,
   "metadata": {},
   "outputs": [
    {
     "name": "stdout",
     "output_type": "stream",
     "text": [
      "Predicted classes: ['female' 'female' 'male' 'female' 'male']\n",
      "Actual Labels: ['female', 'female', 'male', 'female', 'male']\n"
     ]
    }
   ],
   "source": [
    "print(f\"Predicted classes: {prediction_labels}\")\n",
    "print(f\"Actual Labels: {list(y_test[:5])}\")"
   ]
  },
  {
   "cell_type": "code",
   "execution_count": null,
   "metadata": {},
   "outputs": [],
   "source": []
  }
 ],
 "metadata": {
  "kernelspec": {
   "display_name": "Python 3",
   "language": "python",
   "name": "python3"
  },
  "language_info": {
   "codemirror_mode": {
    "name": "ipython",
    "version": 3
   },
   "file_extension": ".py",
   "mimetype": "text/x-python",
   "name": "python",
   "nbconvert_exporter": "python",
   "pygments_lexer": "ipython3",
   "version": "3.8.5"
  },
  "varInspector": {
   "cols": {
    "lenName": 16,
    "lenType": 16,
    "lenVar": 40
   },
   "kernels_config": {
    "python": {
     "delete_cmd_postfix": "",
     "delete_cmd_prefix": "del ",
     "library": "var_list.py",
     "varRefreshCmd": "print(var_dic_list())"
    },
    "r": {
     "delete_cmd_postfix": ") ",
     "delete_cmd_prefix": "rm(",
     "library": "var_list.r",
     "varRefreshCmd": "cat(var_dic_list()) "
    }
   },
   "types_to_exclude": [
    "module",
    "function",
    "builtin_function_or_method",
    "instance",
    "_Feature"
   ],
   "window_display": false
  }
 },
 "nbformat": 4,
 "nbformat_minor": 2
}
